{
 "cells": [
  {
   "cell_type": "code",
   "execution_count": 1,
   "id": "300fdc00",
   "metadata": {
    "_cell_guid": "24cccc70-f8a7-fbd1-5e89-c900ab3af619",
    "execution": {
     "iopub.execute_input": "2021-07-19T11:16:50.533062Z",
     "iopub.status.busy": "2021-07-19T11:16:50.531875Z",
     "iopub.status.idle": "2021-07-19T11:16:52.680242Z",
     "shell.execute_reply": "2021-07-19T11:16:52.679081Z",
     "shell.execute_reply.started": "2021-07-19T11:15:47.855482Z"
    },
    "papermill": {
     "duration": 2.175048,
     "end_time": "2021-07-19T11:16:52.680429",
     "exception": false,
     "start_time": "2021-07-19T11:16:50.505381",
     "status": "completed"
    },
    "tags": []
   },
   "outputs": [],
   "source": [
    "# Importing packages\n",
    "import numpy as np\n",
    "import pandas as pd\n",
    "import os\n",
    "from pandas import DataFrame,Series\n",
    "from sklearn import tree\n",
    "import matplotlib\n",
    "import matplotlib.pyplot as plt\n",
    "from sklearn import svm\n",
    "from sklearn.preprocessing import StandardScaler\n",
    "import statsmodels.formula.api as smf\n",
    "import statsmodels.api as sm\n",
    "from mpl_toolkits.mplot3d import Axes3D\n",
    "import seaborn as sns\n",
    "from sklearn import neighbors\n",
    "from sklearn import linear_model\n",
    "%matplotlib inline"
   ]
  },
  {
   "cell_type": "markdown",
   "id": "1eef8eb9",
   "metadata": {
    "_cell_guid": "a5a5d97c-7695-0d1f-f120-fc248b8c1660",
    "papermill": {
     "duration": 0.021327,
     "end_time": "2021-07-19T11:16:52.724409",
     "exception": false,
     "start_time": "2021-07-19T11:16:52.703082",
     "status": "completed"
    },
    "tags": []
   },
   "source": [
    "**Read data in csv**"
   ]
  },
  {
   "cell_type": "code",
   "execution_count": 2,
   "id": "6e3a71d8",
   "metadata": {
    "_cell_guid": "ac54e190-72dc-90ec-e1f0-5df00e7202ee",
    "execution": {
     "iopub.execute_input": "2021-07-19T11:16:52.774232Z",
     "iopub.status.busy": "2021-07-19T11:16:52.773606Z",
     "iopub.status.idle": "2021-07-19T11:16:52.922976Z",
     "shell.execute_reply": "2021-07-19T11:16:52.922416Z",
     "shell.execute_reply.started": "2021-07-19T11:15:50.217219Z"
    },
    "papermill": {
     "duration": 0.177206,
     "end_time": "2021-07-19T11:16:52.923113",
     "exception": false,
     "start_time": "2021-07-19T11:16:52.745907",
     "status": "completed"
    },
    "tags": []
   },
   "outputs": [],
   "source": [
    "train = pd.read_csv(\"../input/train.csv\")\n",
    "test = pd.read_csv(\"../input/test.csv\")\n",
    "test2 = pd.read_csv(\"../input/test.csv\")"
   ]
  },
  {
   "cell_type": "markdown",
   "id": "c623078e",
   "metadata": {
    "_cell_guid": "2e1f38b2-1ae8-4638-aa99-cea103fcd3ba",
    "papermill": {
     "duration": 0.021897,
     "end_time": "2021-07-19T11:16:52.966617",
     "exception": false,
     "start_time": "2021-07-19T11:16:52.944720",
     "status": "completed"
    },
    "tags": []
   },
   "source": [
    "##2. INITIAL EXPLORATION ##"
   ]
  },
  {
   "cell_type": "code",
   "execution_count": 3,
   "id": "1dd71e9f",
   "metadata": {
    "_cell_guid": "57451e14-8508-cd66-02f9-c472ddd35391",
    "execution": {
     "iopub.execute_input": "2021-07-19T11:16:53.036536Z",
     "iopub.status.busy": "2021-07-19T11:16:53.035849Z",
     "iopub.status.idle": "2021-07-19T11:16:53.038877Z",
     "shell.execute_reply": "2021-07-19T11:16:53.040033Z",
     "shell.execute_reply.started": "2021-07-19T11:15:50.368751Z"
    },
    "papermill": {
     "duration": 0.052154,
     "end_time": "2021-07-19T11:16:53.040309",
     "exception": false,
     "start_time": "2021-07-19T11:16:52.988155",
     "status": "completed"
    },
    "tags": []
   },
   "outputs": [
    {
     "name": "stdout",
     "output_type": "stream",
     "text": [
      "<class 'pandas.core.frame.DataFrame'>\n",
      "RangeIndex: 891 entries, 0 to 890\n",
      "Data columns (total 12 columns):\n",
      " #   Column       Non-Null Count  Dtype  \n",
      "---  ------       --------------  -----  \n",
      " 0   PassengerId  891 non-null    int64  \n",
      " 1   Survived     891 non-null    int64  \n",
      " 2   Pclass       891 non-null    int64  \n",
      " 3   Name         891 non-null    object \n",
      " 4   Sex          891 non-null    object \n",
      " 5   Age          714 non-null    float64\n",
      " 6   SibSp        891 non-null    int64  \n",
      " 7   Parch        891 non-null    int64  \n",
      " 8   Ticket       891 non-null    object \n",
      " 9   Fare         891 non-null    float64\n",
      " 10  Cabin        204 non-null    object \n",
      " 11  Embarked     889 non-null    object \n",
      "dtypes: float64(2), int64(5), object(5)\n",
      "memory usage: 83.7+ KB\n"
     ]
    }
   ],
   "source": [
    "train.info()"
   ]
  },
  {
   "cell_type": "code",
   "execution_count": 4,
   "id": "86fec599",
   "metadata": {
    "_cell_guid": "47593783-9c64-ac2d-dfa1-b7b96ce53aa2",
    "execution": {
     "iopub.execute_input": "2021-07-19T11:16:53.089396Z",
     "iopub.status.busy": "2021-07-19T11:16:53.088748Z",
     "iopub.status.idle": "2021-07-19T11:16:53.133045Z",
     "shell.execute_reply": "2021-07-19T11:16:53.133562Z",
     "shell.execute_reply.started": "2021-07-19T11:15:50.403085Z"
    },
    "papermill": {
     "duration": 0.06937,
     "end_time": "2021-07-19T11:16:53.133728",
     "exception": false,
     "start_time": "2021-07-19T11:16:53.064358",
     "status": "completed"
    },
    "tags": []
   },
   "outputs": [
    {
     "data": {
      "text/html": [
       "<div>\n",
       "<style scoped>\n",
       "    .dataframe tbody tr th:only-of-type {\n",
       "        vertical-align: middle;\n",
       "    }\n",
       "\n",
       "    .dataframe tbody tr th {\n",
       "        vertical-align: top;\n",
       "    }\n",
       "\n",
       "    .dataframe thead th {\n",
       "        text-align: right;\n",
       "    }\n",
       "</style>\n",
       "<table border=\"1\" class=\"dataframe\">\n",
       "  <thead>\n",
       "    <tr style=\"text-align: right;\">\n",
       "      <th></th>\n",
       "      <th>PassengerId</th>\n",
       "      <th>Survived</th>\n",
       "      <th>Pclass</th>\n",
       "      <th>Age</th>\n",
       "      <th>SibSp</th>\n",
       "      <th>Parch</th>\n",
       "      <th>Fare</th>\n",
       "    </tr>\n",
       "  </thead>\n",
       "  <tbody>\n",
       "    <tr>\n",
       "      <th>count</th>\n",
       "      <td>891.000000</td>\n",
       "      <td>891.000000</td>\n",
       "      <td>891.000000</td>\n",
       "      <td>714.000000</td>\n",
       "      <td>891.000000</td>\n",
       "      <td>891.000000</td>\n",
       "      <td>891.000000</td>\n",
       "    </tr>\n",
       "    <tr>\n",
       "      <th>mean</th>\n",
       "      <td>446.000000</td>\n",
       "      <td>0.383838</td>\n",
       "      <td>2.308642</td>\n",
       "      <td>29.699118</td>\n",
       "      <td>0.523008</td>\n",
       "      <td>0.381594</td>\n",
       "      <td>32.204208</td>\n",
       "    </tr>\n",
       "    <tr>\n",
       "      <th>std</th>\n",
       "      <td>257.353842</td>\n",
       "      <td>0.486592</td>\n",
       "      <td>0.836071</td>\n",
       "      <td>14.526497</td>\n",
       "      <td>1.102743</td>\n",
       "      <td>0.806057</td>\n",
       "      <td>49.693429</td>\n",
       "    </tr>\n",
       "    <tr>\n",
       "      <th>min</th>\n",
       "      <td>1.000000</td>\n",
       "      <td>0.000000</td>\n",
       "      <td>1.000000</td>\n",
       "      <td>0.420000</td>\n",
       "      <td>0.000000</td>\n",
       "      <td>0.000000</td>\n",
       "      <td>0.000000</td>\n",
       "    </tr>\n",
       "    <tr>\n",
       "      <th>25%</th>\n",
       "      <td>223.500000</td>\n",
       "      <td>0.000000</td>\n",
       "      <td>2.000000</td>\n",
       "      <td>20.125000</td>\n",
       "      <td>0.000000</td>\n",
       "      <td>0.000000</td>\n",
       "      <td>7.910400</td>\n",
       "    </tr>\n",
       "    <tr>\n",
       "      <th>50%</th>\n",
       "      <td>446.000000</td>\n",
       "      <td>0.000000</td>\n",
       "      <td>3.000000</td>\n",
       "      <td>28.000000</td>\n",
       "      <td>0.000000</td>\n",
       "      <td>0.000000</td>\n",
       "      <td>14.454200</td>\n",
       "    </tr>\n",
       "    <tr>\n",
       "      <th>75%</th>\n",
       "      <td>668.500000</td>\n",
       "      <td>1.000000</td>\n",
       "      <td>3.000000</td>\n",
       "      <td>38.000000</td>\n",
       "      <td>1.000000</td>\n",
       "      <td>0.000000</td>\n",
       "      <td>31.000000</td>\n",
       "    </tr>\n",
       "    <tr>\n",
       "      <th>max</th>\n",
       "      <td>891.000000</td>\n",
       "      <td>1.000000</td>\n",
       "      <td>3.000000</td>\n",
       "      <td>80.000000</td>\n",
       "      <td>8.000000</td>\n",
       "      <td>6.000000</td>\n",
       "      <td>512.329200</td>\n",
       "    </tr>\n",
       "  </tbody>\n",
       "</table>\n",
       "</div>"
      ],
      "text/plain": [
       "       PassengerId    Survived      Pclass         Age       SibSp  \\\n",
       "count   891.000000  891.000000  891.000000  714.000000  891.000000   \n",
       "mean    446.000000    0.383838    2.308642   29.699118    0.523008   \n",
       "std     257.353842    0.486592    0.836071   14.526497    1.102743   \n",
       "min       1.000000    0.000000    1.000000    0.420000    0.000000   \n",
       "25%     223.500000    0.000000    2.000000   20.125000    0.000000   \n",
       "50%     446.000000    0.000000    3.000000   28.000000    0.000000   \n",
       "75%     668.500000    1.000000    3.000000   38.000000    1.000000   \n",
       "max     891.000000    1.000000    3.000000   80.000000    8.000000   \n",
       "\n",
       "            Parch        Fare  \n",
       "count  891.000000  891.000000  \n",
       "mean     0.381594   32.204208  \n",
       "std      0.806057   49.693429  \n",
       "min      0.000000    0.000000  \n",
       "25%      0.000000    7.910400  \n",
       "50%      0.000000   14.454200  \n",
       "75%      0.000000   31.000000  \n",
       "max      6.000000  512.329200  "
      ]
     },
     "execution_count": 4,
     "metadata": {},
     "output_type": "execute_result"
    }
   ],
   "source": [
    "train.describe()"
   ]
  },
  {
   "cell_type": "code",
   "execution_count": 5,
   "id": "67168413",
   "metadata": {
    "_cell_guid": "b29490d9-83cd-da0a-9496-6ce6324e0a49",
    "execution": {
     "iopub.execute_input": "2021-07-19T11:16:53.196657Z",
     "iopub.status.busy": "2021-07-19T11:16:53.195891Z",
     "iopub.status.idle": "2021-07-19T11:16:53.199077Z",
     "shell.execute_reply": "2021-07-19T11:16:53.199627Z",
     "shell.execute_reply.started": "2021-07-19T11:15:50.456102Z"
    },
    "papermill": {
     "duration": 0.043625,
     "end_time": "2021-07-19T11:16:53.199806",
     "exception": false,
     "start_time": "2021-07-19T11:16:53.156181",
     "status": "completed"
    },
    "tags": []
   },
   "outputs": [
    {
     "data": {
      "text/html": [
       "<div>\n",
       "<style scoped>\n",
       "    .dataframe tbody tr th:only-of-type {\n",
       "        vertical-align: middle;\n",
       "    }\n",
       "\n",
       "    .dataframe tbody tr th {\n",
       "        vertical-align: top;\n",
       "    }\n",
       "\n",
       "    .dataframe thead th {\n",
       "        text-align: right;\n",
       "    }\n",
       "</style>\n",
       "<table border=\"1\" class=\"dataframe\">\n",
       "  <thead>\n",
       "    <tr style=\"text-align: right;\">\n",
       "      <th></th>\n",
       "      <th>PassengerId</th>\n",
       "      <th>Survived</th>\n",
       "      <th>Pclass</th>\n",
       "      <th>Name</th>\n",
       "      <th>Sex</th>\n",
       "      <th>Age</th>\n",
       "      <th>SibSp</th>\n",
       "      <th>Parch</th>\n",
       "      <th>Ticket</th>\n",
       "      <th>Fare</th>\n",
       "      <th>Cabin</th>\n",
       "      <th>Embarked</th>\n",
       "    </tr>\n",
       "  </thead>\n",
       "  <tbody>\n",
       "    <tr>\n",
       "      <th>0</th>\n",
       "      <td>1</td>\n",
       "      <td>0</td>\n",
       "      <td>3</td>\n",
       "      <td>Braund, Mr. Owen Harris</td>\n",
       "      <td>male</td>\n",
       "      <td>22.0</td>\n",
       "      <td>1</td>\n",
       "      <td>0</td>\n",
       "      <td>A/5 21171</td>\n",
       "      <td>7.2500</td>\n",
       "      <td>NaN</td>\n",
       "      <td>S</td>\n",
       "    </tr>\n",
       "    <tr>\n",
       "      <th>1</th>\n",
       "      <td>2</td>\n",
       "      <td>1</td>\n",
       "      <td>1</td>\n",
       "      <td>Cumings, Mrs. John Bradley (Florence Briggs Th...</td>\n",
       "      <td>female</td>\n",
       "      <td>38.0</td>\n",
       "      <td>1</td>\n",
       "      <td>0</td>\n",
       "      <td>PC 17599</td>\n",
       "      <td>71.2833</td>\n",
       "      <td>C85</td>\n",
       "      <td>C</td>\n",
       "    </tr>\n",
       "    <tr>\n",
       "      <th>2</th>\n",
       "      <td>3</td>\n",
       "      <td>1</td>\n",
       "      <td>3</td>\n",
       "      <td>Heikkinen, Miss. Laina</td>\n",
       "      <td>female</td>\n",
       "      <td>26.0</td>\n",
       "      <td>0</td>\n",
       "      <td>0</td>\n",
       "      <td>STON/O2. 3101282</td>\n",
       "      <td>7.9250</td>\n",
       "      <td>NaN</td>\n",
       "      <td>S</td>\n",
       "    </tr>\n",
       "    <tr>\n",
       "      <th>3</th>\n",
       "      <td>4</td>\n",
       "      <td>1</td>\n",
       "      <td>1</td>\n",
       "      <td>Futrelle, Mrs. Jacques Heath (Lily May Peel)</td>\n",
       "      <td>female</td>\n",
       "      <td>35.0</td>\n",
       "      <td>1</td>\n",
       "      <td>0</td>\n",
       "      <td>113803</td>\n",
       "      <td>53.1000</td>\n",
       "      <td>C123</td>\n",
       "      <td>S</td>\n",
       "    </tr>\n",
       "    <tr>\n",
       "      <th>4</th>\n",
       "      <td>5</td>\n",
       "      <td>0</td>\n",
       "      <td>3</td>\n",
       "      <td>Allen, Mr. William Henry</td>\n",
       "      <td>male</td>\n",
       "      <td>35.0</td>\n",
       "      <td>0</td>\n",
       "      <td>0</td>\n",
       "      <td>373450</td>\n",
       "      <td>8.0500</td>\n",
       "      <td>NaN</td>\n",
       "      <td>S</td>\n",
       "    </tr>\n",
       "  </tbody>\n",
       "</table>\n",
       "</div>"
      ],
      "text/plain": [
       "   PassengerId  Survived  Pclass  \\\n",
       "0            1         0       3   \n",
       "1            2         1       1   \n",
       "2            3         1       3   \n",
       "3            4         1       1   \n",
       "4            5         0       3   \n",
       "\n",
       "                                                Name     Sex   Age  SibSp  \\\n",
       "0                            Braund, Mr. Owen Harris    male  22.0      1   \n",
       "1  Cumings, Mrs. John Bradley (Florence Briggs Th...  female  38.0      1   \n",
       "2                             Heikkinen, Miss. Laina  female  26.0      0   \n",
       "3       Futrelle, Mrs. Jacques Heath (Lily May Peel)  female  35.0      1   \n",
       "4                           Allen, Mr. William Henry    male  35.0      0   \n",
       "\n",
       "   Parch            Ticket     Fare Cabin Embarked  \n",
       "0      0         A/5 21171   7.2500   NaN        S  \n",
       "1      0          PC 17599  71.2833   C85        C  \n",
       "2      0  STON/O2. 3101282   7.9250   NaN        S  \n",
       "3      0            113803  53.1000  C123        S  \n",
       "4      0            373450   8.0500   NaN        S  "
      ]
     },
     "execution_count": 5,
     "metadata": {},
     "output_type": "execute_result"
    }
   ],
   "source": [
    "train.head()"
   ]
  },
  {
   "cell_type": "code",
   "execution_count": 6,
   "id": "b33978a2",
   "metadata": {
    "_cell_guid": "4e4c6cd3-668a-0b14-69ee-791d818c0546",
    "execution": {
     "iopub.execute_input": "2021-07-19T11:16:53.251348Z",
     "iopub.status.busy": "2021-07-19T11:16:53.250701Z",
     "iopub.status.idle": "2021-07-19T11:16:59.281651Z",
     "shell.execute_reply": "2021-07-19T11:16:59.280945Z",
     "shell.execute_reply.started": "2021-07-19T11:15:50.477489Z"
    },
    "papermill": {
     "duration": 6.05675,
     "end_time": "2021-07-19T11:16:59.281807",
     "exception": false,
     "start_time": "2021-07-19T11:16:53.225057",
     "status": "completed"
    },
    "tags": []
   },
   "outputs": [
    {
     "name": "stderr",
     "output_type": "stream",
     "text": [
      "/opt/conda/lib/python3.7/site-packages/seaborn/_decorators.py:43: FutureWarning: Pass the following variables as keyword args: x, y. From version 0.12, the only valid positional argument will be `data`, and passing other arguments without an explicit keyword will result in an error or misinterpretation.\n",
      "  FutureWarning\n",
      "/opt/conda/lib/python3.7/site-packages/seaborn/_decorators.py:43: FutureWarning: Pass the following variables as keyword args: x, y. From version 0.12, the only valid positional argument will be `data`, and passing other arguments without an explicit keyword will result in an error or misinterpretation.\n",
      "  FutureWarning\n",
      "/opt/conda/lib/python3.7/site-packages/seaborn/_decorators.py:43: FutureWarning: Pass the following variables as keyword args: x, y. From version 0.12, the only valid positional argument will be `data`, and passing other arguments without an explicit keyword will result in an error or misinterpretation.\n",
      "  FutureWarning\n",
      "/opt/conda/lib/python3.7/site-packages/seaborn/distributions.py:2557: FutureWarning: `distplot` is a deprecated function and will be removed in a future version. Please adapt your code to use either `displot` (a figure-level function with similar flexibility) or `histplot` (an axes-level function for histograms).\n",
      "  warnings.warn(msg, FutureWarning)\n",
      "/opt/conda/lib/python3.7/site-packages/seaborn/_decorators.py:43: FutureWarning: Pass the following variables as keyword args: x, y. From version 0.12, the only valid positional argument will be `data`, and passing other arguments without an explicit keyword will result in an error or misinterpretation.\n",
      "  FutureWarning\n",
      "/opt/conda/lib/python3.7/site-packages/seaborn/_decorators.py:43: FutureWarning: Pass the following variables as keyword args: x, y. From version 0.12, the only valid positional argument will be `data`, and passing other arguments without an explicit keyword will result in an error or misinterpretation.\n",
      "  FutureWarning\n"
     ]
    },
    {
     "data": {
      "text/plain": [
       "<AxesSubplot:xlabel='Parch', ylabel='Survived'>"
      ]
     },
     "execution_count": 6,
     "metadata": {},
     "output_type": "execute_result"
    },
    {
     "data": {
      "image/png": "[encoded data removed]",
      "text/plain": [
       "<Figure size 864x720 with 6 Axes>"
      ]
     },
     "metadata": {
      "needs_background": "light"
     },
     "output_type": "display_data"
    }
   ],
   "source": [
    "surv = train['Survived'] == 1\n",
    "die = train['Survived'] == 0\n",
    "plt.figure(figsize=[12,10])\n",
    "plt.subplot(321)\n",
    "sns.barplot('Sex','Survived',data = train)\n",
    "plt.subplot(322)\n",
    "sns.barplot('Pclass','Survived',data = train)\n",
    "plt.subplot(323)\n",
    "sns.barplot('Age','Survived',data = train)\n",
    "plt.subplot(324)\n",
    "sns.distplot(train[surv]['Age'].dropna().values, bins=range(0, 81, 1), kde=False, color='blue')\n",
    "sns.distplot(train[die]['Age'].dropna().values, bins=range(0, 81, 1), kde=False, color='red')\n",
    "plt.subplot(325)\n",
    "sns.barplot('SibSp','Survived',data = train)\n",
    "plt.subplot(326)\n",
    "sns.barplot('Parch','Survived',data = train)"
   ]
  },
  {
   "cell_type": "markdown",
   "id": "ba322006",
   "metadata": {
    "_cell_guid": "130eb193-df8a-48ef-5306-dfbd23ae4f55",
    "papermill": {
     "duration": 0.025658,
     "end_time": "2021-07-19T11:16:59.334264",
     "exception": false,
     "start_time": "2021-07-19T11:16:59.308606",
     "status": "completed"
    },
    "tags": []
   },
   "source": [
    "## 3. RELATION BETWEEN FEATURES ##"
   ]
  },
  {
   "cell_type": "code",
   "execution_count": 7,
   "id": "837ea916",
   "metadata": {
    "_cell_guid": "e494cc9f-fa24-481e-23c1-d0509ddd7158",
    "execution": {
     "iopub.execute_input": "2021-07-19T11:16:59.404478Z",
     "iopub.status.busy": "2021-07-19T11:16:59.395612Z",
     "iopub.status.idle": "2021-07-19T11:16:59.420945Z",
     "shell.execute_reply": "2021-07-19T11:16:59.420382Z",
     "shell.execute_reply.started": "2021-07-19T11:15:56.133522Z"
    },
    "papermill": {
     "duration": 0.060911,
     "end_time": "2021-07-19T11:16:59.421093",
     "exception": false,
     "start_time": "2021-07-19T11:16:59.360182",
     "status": "completed"
    },
    "tags": []
   },
   "outputs": [
    {
     "name": "stdout",
     "output_type": "stream",
     "text": [
      "Survived    0    1\n",
      "SibSp             \n",
      "0         398  210\n",
      "1          97  112\n",
      "2          15   13\n",
      "3          12    4\n",
      "4          15    3\n",
      "5           5    0\n",
      "8           7    0\n"
     ]
    }
   ],
   "source": [
    "tab = pd.crosstab(train['SibSp'], train['Survived'])\n",
    "print(tab)"
   ]
  },
  {
   "cell_type": "markdown",
   "id": "7ad14bbd",
   "metadata": {
    "_cell_guid": "5ee20804-0746-3a75-193c-3969696d507c",
    "papermill": {
     "duration": 0.026394,
     "end_time": "2021-07-19T11:16:59.473780",
     "exception": false,
     "start_time": "2021-07-19T11:16:59.447386",
     "status": "completed"
    },
    "tags": []
   },
   "source": [
    "## 4. FILLING MISSING VALUES ##"
   ]
  },
  {
   "cell_type": "markdown",
   "id": "1f55fcc1",
   "metadata": {
    "_cell_guid": "eb15c8d8-16b9-86a9-ccd2-eaa0edb47adb",
    "papermill": {
     "duration": 0.026677,
     "end_time": "2021-07-19T11:16:59.526665",
     "exception": false,
     "start_time": "2021-07-19T11:16:59.499988",
     "status": "completed"
    },
    "tags": []
   },
   "source": [
    "# 5. Derived (engineered) features"
   ]
  },
  {
   "cell_type": "code",
   "execution_count": 8,
   "id": "ddb3740d",
   "metadata": {
    "_cell_guid": "babde106-e1ea-580b-70b1-e1b4ed1f61d0",
    "execution": {
     "iopub.execute_input": "2021-07-19T11:16:59.605013Z",
     "iopub.status.busy": "2021-07-19T11:16:59.604321Z",
     "iopub.status.idle": "2021-07-19T11:16:59.609401Z",
     "shell.execute_reply": "2021-07-19T11:16:59.608853Z",
     "shell.execute_reply.started": "2021-07-19T11:15:56.166113Z"
    },
    "papermill": {
     "duration": 0.052896,
     "end_time": "2021-07-19T11:16:59.609544",
     "exception": false,
     "start_time": "2021-07-19T11:16:59.556648",
     "status": "completed"
    },
    "tags": []
   },
   "outputs": [
    {
     "data": {
      "text/html": [
       "<div>\n",
       "<style scoped>\n",
       "    .dataframe tbody tr th:only-of-type {\n",
       "        vertical-align: middle;\n",
       "    }\n",
       "\n",
       "    .dataframe tbody tr th {\n",
       "        vertical-align: top;\n",
       "    }\n",
       "\n",
       "    .dataframe thead th {\n",
       "        text-align: right;\n",
       "    }\n",
       "</style>\n",
       "<table border=\"1\" class=\"dataframe\">\n",
       "  <thead>\n",
       "    <tr style=\"text-align: right;\">\n",
       "      <th></th>\n",
       "      <th>PassengerId</th>\n",
       "      <th>Survived</th>\n",
       "      <th>Pclass</th>\n",
       "      <th>Name</th>\n",
       "      <th>Sex</th>\n",
       "      <th>Age</th>\n",
       "      <th>SibSp</th>\n",
       "      <th>Parch</th>\n",
       "      <th>Ticket</th>\n",
       "      <th>Fare</th>\n",
       "      <th>Cabin</th>\n",
       "      <th>Embarked</th>\n",
       "    </tr>\n",
       "  </thead>\n",
       "  <tbody>\n",
       "    <tr>\n",
       "      <th>0</th>\n",
       "      <td>1</td>\n",
       "      <td>0</td>\n",
       "      <td>3</td>\n",
       "      <td>Braund, Mr. Owen Harris</td>\n",
       "      <td>1.0</td>\n",
       "      <td>22.0</td>\n",
       "      <td>1</td>\n",
       "      <td>0</td>\n",
       "      <td>A/5 21171</td>\n",
       "      <td>7.2500</td>\n",
       "      <td>NaN</td>\n",
       "      <td>S</td>\n",
       "    </tr>\n",
       "    <tr>\n",
       "      <th>1</th>\n",
       "      <td>2</td>\n",
       "      <td>1</td>\n",
       "      <td>1</td>\n",
       "      <td>Cumings, Mrs. John Bradley (Florence Briggs Th...</td>\n",
       "      <td>0.0</td>\n",
       "      <td>38.0</td>\n",
       "      <td>1</td>\n",
       "      <td>0</td>\n",
       "      <td>PC 17599</td>\n",
       "      <td>71.2833</td>\n",
       "      <td>C85</td>\n",
       "      <td>C</td>\n",
       "    </tr>\n",
       "    <tr>\n",
       "      <th>2</th>\n",
       "      <td>3</td>\n",
       "      <td>1</td>\n",
       "      <td>3</td>\n",
       "      <td>Heikkinen, Miss. Laina</td>\n",
       "      <td>0.0</td>\n",
       "      <td>26.0</td>\n",
       "      <td>0</td>\n",
       "      <td>0</td>\n",
       "      <td>STON/O2. 3101282</td>\n",
       "      <td>7.9250</td>\n",
       "      <td>NaN</td>\n",
       "      <td>S</td>\n",
       "    </tr>\n",
       "    <tr>\n",
       "      <th>3</th>\n",
       "      <td>4</td>\n",
       "      <td>1</td>\n",
       "      <td>1</td>\n",
       "      <td>Futrelle, Mrs. Jacques Heath (Lily May Peel)</td>\n",
       "      <td>0.0</td>\n",
       "      <td>35.0</td>\n",
       "      <td>1</td>\n",
       "      <td>0</td>\n",
       "      <td>113803</td>\n",
       "      <td>53.1000</td>\n",
       "      <td>C123</td>\n",
       "      <td>S</td>\n",
       "    </tr>\n",
       "    <tr>\n",
       "      <th>4</th>\n",
       "      <td>5</td>\n",
       "      <td>0</td>\n",
       "      <td>3</td>\n",
       "      <td>Allen, Mr. William Henry</td>\n",
       "      <td>1.0</td>\n",
       "      <td>35.0</td>\n",
       "      <td>0</td>\n",
       "      <td>0</td>\n",
       "      <td>373450</td>\n",
       "      <td>8.0500</td>\n",
       "      <td>NaN</td>\n",
       "      <td>S</td>\n",
       "    </tr>\n",
       "  </tbody>\n",
       "</table>\n",
       "</div>"
      ],
      "text/plain": [
       "   PassengerId  Survived  Pclass  \\\n",
       "0            1         0       3   \n",
       "1            2         1       1   \n",
       "2            3         1       3   \n",
       "3            4         1       1   \n",
       "4            5         0       3   \n",
       "\n",
       "                                                Name  Sex   Age  SibSp  Parch  \\\n",
       "0                            Braund, Mr. Owen Harris  1.0  22.0      1      0   \n",
       "1  Cumings, Mrs. John Bradley (Florence Briggs Th...  0.0  38.0      1      0   \n",
       "2                             Heikkinen, Miss. Laina  0.0  26.0      0      0   \n",
       "3       Futrelle, Mrs. Jacques Heath (Lily May Peel)  0.0  35.0      1      0   \n",
       "4                           Allen, Mr. William Henry  1.0  35.0      0      0   \n",
       "\n",
       "             Ticket     Fare Cabin Embarked  \n",
       "0         A/5 21171   7.2500   NaN        S  \n",
       "1          PC 17599  71.2833   C85        C  \n",
       "2  STON/O2. 3101282   7.9250   NaN        S  \n",
       "3            113803  53.1000  C123        S  \n",
       "4            373450   8.0500   NaN        S  "
      ]
     },
     "execution_count": 8,
     "metadata": {},
     "output_type": "execute_result"
    }
   ],
   "source": [
    "sex = np.zeros(len(train))\n",
    "sex[train['Sex']== 'male'] = 1\n",
    "sex[train['Sex']== 'female'] = 0\n",
    "train['Sex'] = sex\n",
    "\n",
    "train.head()"
   ]
  },
  {
   "cell_type": "code",
   "execution_count": 9,
   "id": "657275e5",
   "metadata": {
    "_cell_guid": "1eadfe74-1578-f803-227f-6bd4ce6d1ab4",
    "execution": {
     "iopub.execute_input": "2021-07-19T11:16:59.686443Z",
     "iopub.status.busy": "2021-07-19T11:16:59.685760Z",
     "iopub.status.idle": "2021-07-19T11:16:59.689322Z",
     "shell.execute_reply": "2021-07-19T11:16:59.688718Z",
     "shell.execute_reply.started": "2021-07-19T11:15:56.188937Z"
    },
    "papermill": {
     "duration": 0.052892,
     "end_time": "2021-07-19T11:16:59.689475",
     "exception": false,
     "start_time": "2021-07-19T11:16:59.636583",
     "status": "completed"
    },
    "tags": []
   },
   "outputs": [
    {
     "data": {
      "text/html": [
       "<div>\n",
       "<style scoped>\n",
       "    .dataframe tbody tr th:only-of-type {\n",
       "        vertical-align: middle;\n",
       "    }\n",
       "\n",
       "    .dataframe tbody tr th {\n",
       "        vertical-align: top;\n",
       "    }\n",
       "\n",
       "    .dataframe thead th {\n",
       "        text-align: right;\n",
       "    }\n",
       "</style>\n",
       "<table border=\"1\" class=\"dataframe\">\n",
       "  <thead>\n",
       "    <tr style=\"text-align: right;\">\n",
       "      <th></th>\n",
       "      <th>PassengerId</th>\n",
       "      <th>Survived</th>\n",
       "      <th>Pclass</th>\n",
       "      <th>Name</th>\n",
       "      <th>Sex</th>\n",
       "      <th>Age</th>\n",
       "      <th>SibSp</th>\n",
       "      <th>Parch</th>\n",
       "      <th>Ticket</th>\n",
       "      <th>Fare</th>\n",
       "      <th>Cabin</th>\n",
       "      <th>Embarked</th>\n",
       "    </tr>\n",
       "  </thead>\n",
       "  <tbody>\n",
       "    <tr>\n",
       "      <th>0</th>\n",
       "      <td>1</td>\n",
       "      <td>0</td>\n",
       "      <td>3</td>\n",
       "      <td>Braund, Mr. Owen Harris</td>\n",
       "      <td>1.0</td>\n",
       "      <td>22.0</td>\n",
       "      <td>1</td>\n",
       "      <td>0</td>\n",
       "      <td>A/5 21171</td>\n",
       "      <td>7.2500</td>\n",
       "      <td>NaN</td>\n",
       "      <td>3.0</td>\n",
       "    </tr>\n",
       "    <tr>\n",
       "      <th>1</th>\n",
       "      <td>2</td>\n",
       "      <td>1</td>\n",
       "      <td>1</td>\n",
       "      <td>Cumings, Mrs. John Bradley (Florence Briggs Th...</td>\n",
       "      <td>0.0</td>\n",
       "      <td>38.0</td>\n",
       "      <td>1</td>\n",
       "      <td>0</td>\n",
       "      <td>PC 17599</td>\n",
       "      <td>71.2833</td>\n",
       "      <td>C85</td>\n",
       "      <td>1.0</td>\n",
       "    </tr>\n",
       "    <tr>\n",
       "      <th>2</th>\n",
       "      <td>3</td>\n",
       "      <td>1</td>\n",
       "      <td>3</td>\n",
       "      <td>Heikkinen, Miss. Laina</td>\n",
       "      <td>0.0</td>\n",
       "      <td>26.0</td>\n",
       "      <td>0</td>\n",
       "      <td>0</td>\n",
       "      <td>STON/O2. 3101282</td>\n",
       "      <td>7.9250</td>\n",
       "      <td>NaN</td>\n",
       "      <td>3.0</td>\n",
       "    </tr>\n",
       "    <tr>\n",
       "      <th>3</th>\n",
       "      <td>4</td>\n",
       "      <td>1</td>\n",
       "      <td>1</td>\n",
       "      <td>Futrelle, Mrs. Jacques Heath (Lily May Peel)</td>\n",
       "      <td>0.0</td>\n",
       "      <td>35.0</td>\n",
       "      <td>1</td>\n",
       "      <td>0</td>\n",
       "      <td>113803</td>\n",
       "      <td>53.1000</td>\n",
       "      <td>C123</td>\n",
       "      <td>3.0</td>\n",
       "    </tr>\n",
       "    <tr>\n",
       "      <th>4</th>\n",
       "      <td>5</td>\n",
       "      <td>0</td>\n",
       "      <td>3</td>\n",
       "      <td>Allen, Mr. William Henry</td>\n",
       "      <td>1.0</td>\n",
       "      <td>35.0</td>\n",
       "      <td>0</td>\n",
       "      <td>0</td>\n",
       "      <td>373450</td>\n",
       "      <td>8.0500</td>\n",
       "      <td>NaN</td>\n",
       "      <td>3.0</td>\n",
       "    </tr>\n",
       "  </tbody>\n",
       "</table>\n",
       "</div>"
      ],
      "text/plain": [
       "   PassengerId  Survived  Pclass  \\\n",
       "0            1         0       3   \n",
       "1            2         1       1   \n",
       "2            3         1       3   \n",
       "3            4         1       1   \n",
       "4            5         0       3   \n",
       "\n",
       "                                                Name  Sex   Age  SibSp  Parch  \\\n",
       "0                            Braund, Mr. Owen Harris  1.0  22.0      1      0   \n",
       "1  Cumings, Mrs. John Bradley (Florence Briggs Th...  0.0  38.0      1      0   \n",
       "2                             Heikkinen, Miss. Laina  0.0  26.0      0      0   \n",
       "3       Futrelle, Mrs. Jacques Heath (Lily May Peel)  0.0  35.0      1      0   \n",
       "4                           Allen, Mr. William Henry  1.0  35.0      0      0   \n",
       "\n",
       "             Ticket     Fare Cabin  Embarked  \n",
       "0         A/5 21171   7.2500   NaN       3.0  \n",
       "1          PC 17599  71.2833   C85       1.0  \n",
       "2  STON/O2. 3101282   7.9250   NaN       3.0  \n",
       "3            113803  53.1000  C123       3.0  \n",
       "4            373450   8.0500   NaN       3.0  "
      ]
     },
     "execution_count": 9,
     "metadata": {},
     "output_type": "execute_result"
    }
   ],
   "source": [
    "train['Embarked'].fillna(train['Embarked'].mode()[0],inplace=True)\n",
    "Embarked = np.zeros(len(train))\n",
    "Embarked[train['Embarked']== 'C'] = 1\n",
    "Embarked[train['Embarked']== 'Q'] = 2\n",
    "Embarked[train['Embarked']== 'S'] = 3\n",
    "train['Embarked'] = Embarked\n",
    "train.head()"
   ]
  },
  {
   "cell_type": "code",
   "execution_count": 10,
   "id": "5b56eb13",
   "metadata": {
    "_cell_guid": "17279e3f-ea04-edc7-9027-3b0b876d456b",
    "execution": {
     "iopub.execute_input": "2021-07-19T11:16:59.763579Z",
     "iopub.status.busy": "2021-07-19T11:16:59.762788Z",
     "iopub.status.idle": "2021-07-19T11:16:59.768233Z",
     "shell.execute_reply": "2021-07-19T11:16:59.768758Z",
     "shell.execute_reply.started": "2021-07-19T11:15:56.221222Z"
    },
    "papermill": {
     "duration": 0.051745,
     "end_time": "2021-07-19T11:16:59.768944",
     "exception": false,
     "start_time": "2021-07-19T11:16:59.717199",
     "status": "completed"
    },
    "tags": []
   },
   "outputs": [
    {
     "name": "stdout",
     "output_type": "stream",
     "text": [
      "<class 'pandas.core.frame.DataFrame'>\n"
     ]
    },
    {
     "data": {
      "text/html": [
       "<div>\n",
       "<style scoped>\n",
       "    .dataframe tbody tr th:only-of-type {\n",
       "        vertical-align: middle;\n",
       "    }\n",
       "\n",
       "    .dataframe tbody tr th {\n",
       "        vertical-align: top;\n",
       "    }\n",
       "\n",
       "    .dataframe thead th {\n",
       "        text-align: right;\n",
       "    }\n",
       "</style>\n",
       "<table border=\"1\" class=\"dataframe\">\n",
       "  <thead>\n",
       "    <tr style=\"text-align: right;\">\n",
       "      <th></th>\n",
       "      <th>Survived</th>\n",
       "      <th>Pclass</th>\n",
       "      <th>Sex</th>\n",
       "      <th>Age</th>\n",
       "      <th>SibSp</th>\n",
       "      <th>Parch</th>\n",
       "      <th>Fare</th>\n",
       "      <th>Embarked</th>\n",
       "    </tr>\n",
       "  </thead>\n",
       "  <tbody>\n",
       "    <tr>\n",
       "      <th>0</th>\n",
       "      <td>0</td>\n",
       "      <td>3</td>\n",
       "      <td>1.0</td>\n",
       "      <td>22.0</td>\n",
       "      <td>1</td>\n",
       "      <td>0</td>\n",
       "      <td>7.2500</td>\n",
       "      <td>3.0</td>\n",
       "    </tr>\n",
       "    <tr>\n",
       "      <th>1</th>\n",
       "      <td>1</td>\n",
       "      <td>1</td>\n",
       "      <td>0.0</td>\n",
       "      <td>38.0</td>\n",
       "      <td>1</td>\n",
       "      <td>0</td>\n",
       "      <td>71.2833</td>\n",
       "      <td>1.0</td>\n",
       "    </tr>\n",
       "    <tr>\n",
       "      <th>2</th>\n",
       "      <td>1</td>\n",
       "      <td>3</td>\n",
       "      <td>0.0</td>\n",
       "      <td>26.0</td>\n",
       "      <td>0</td>\n",
       "      <td>0</td>\n",
       "      <td>7.9250</td>\n",
       "      <td>3.0</td>\n",
       "    </tr>\n",
       "    <tr>\n",
       "      <th>3</th>\n",
       "      <td>1</td>\n",
       "      <td>1</td>\n",
       "      <td>0.0</td>\n",
       "      <td>35.0</td>\n",
       "      <td>1</td>\n",
       "      <td>0</td>\n",
       "      <td>53.1000</td>\n",
       "      <td>3.0</td>\n",
       "    </tr>\n",
       "    <tr>\n",
       "      <th>4</th>\n",
       "      <td>0</td>\n",
       "      <td>3</td>\n",
       "      <td>1.0</td>\n",
       "      <td>35.0</td>\n",
       "      <td>0</td>\n",
       "      <td>0</td>\n",
       "      <td>8.0500</td>\n",
       "      <td>3.0</td>\n",
       "    </tr>\n",
       "  </tbody>\n",
       "</table>\n",
       "</div>"
      ],
      "text/plain": [
       "   Survived  Pclass  Sex   Age  SibSp  Parch     Fare  Embarked\n",
       "0         0       3  1.0  22.0      1      0   7.2500       3.0\n",
       "1         1       1  0.0  38.0      1      0  71.2833       1.0\n",
       "2         1       3  0.0  26.0      0      0   7.9250       3.0\n",
       "3         1       1  0.0  35.0      1      0  53.1000       3.0\n",
       "4         0       3  1.0  35.0      0      0   8.0500       3.0"
      ]
     },
     "execution_count": 10,
     "metadata": {},
     "output_type": "execute_result"
    }
   ],
   "source": [
    "print(type(train))\n",
    "dropping = ['PassengerId','Name', 'Ticket','Cabin']\n",
    "train.drop(dropping,axis=1, inplace=True)\n",
    "test.drop(dropping,axis=1, inplace=True)\n",
    "train.head()"
   ]
  },
  {
   "cell_type": "code",
   "execution_count": 11,
   "id": "bce1f5c8",
   "metadata": {
    "_cell_guid": "9dfec19e-bc8e-f47e-db45-7fc1cf26e806",
    "execution": {
     "iopub.execute_input": "2021-07-19T11:16:59.847903Z",
     "iopub.status.busy": "2021-07-19T11:16:59.841950Z",
     "iopub.status.idle": "2021-07-19T11:16:59.852716Z",
     "shell.execute_reply": "2021-07-19T11:16:59.852103Z",
     "shell.execute_reply.started": "2021-07-19T11:15:56.244122Z"
    },
    "papermill": {
     "duration": 0.053013,
     "end_time": "2021-07-19T11:16:59.852862",
     "exception": false,
     "start_time": "2021-07-19T11:16:59.799849",
     "status": "completed"
    },
    "tags": []
   },
   "outputs": [
    {
     "data": {
      "text/html": [
       "<div>\n",
       "<style scoped>\n",
       "    .dataframe tbody tr th:only-of-type {\n",
       "        vertical-align: middle;\n",
       "    }\n",
       "\n",
       "    .dataframe tbody tr th {\n",
       "        vertical-align: top;\n",
       "    }\n",
       "\n",
       "    .dataframe thead th {\n",
       "        text-align: right;\n",
       "    }\n",
       "</style>\n",
       "<table border=\"1\" class=\"dataframe\">\n",
       "  <thead>\n",
       "    <tr style=\"text-align: right;\">\n",
       "      <th></th>\n",
       "      <th>Survived</th>\n",
       "      <th>Pclass</th>\n",
       "      <th>Sex</th>\n",
       "      <th>Age</th>\n",
       "      <th>SibSp</th>\n",
       "      <th>Parch</th>\n",
       "      <th>Fare</th>\n",
       "      <th>Embarked</th>\n",
       "    </tr>\n",
       "  </thead>\n",
       "  <tbody>\n",
       "    <tr>\n",
       "      <th>0</th>\n",
       "      <td>0</td>\n",
       "      <td>3</td>\n",
       "      <td>1.0</td>\n",
       "      <td>2.0</td>\n",
       "      <td>1</td>\n",
       "      <td>0</td>\n",
       "      <td>7.2500</td>\n",
       "      <td>3.0</td>\n",
       "    </tr>\n",
       "    <tr>\n",
       "      <th>1</th>\n",
       "      <td>1</td>\n",
       "      <td>1</td>\n",
       "      <td>0.0</td>\n",
       "      <td>2.0</td>\n",
       "      <td>1</td>\n",
       "      <td>0</td>\n",
       "      <td>71.2833</td>\n",
       "      <td>1.0</td>\n",
       "    </tr>\n",
       "    <tr>\n",
       "      <th>2</th>\n",
       "      <td>1</td>\n",
       "      <td>3</td>\n",
       "      <td>0.0</td>\n",
       "      <td>2.0</td>\n",
       "      <td>0</td>\n",
       "      <td>0</td>\n",
       "      <td>7.9250</td>\n",
       "      <td>3.0</td>\n",
       "    </tr>\n",
       "    <tr>\n",
       "      <th>3</th>\n",
       "      <td>1</td>\n",
       "      <td>1</td>\n",
       "      <td>0.0</td>\n",
       "      <td>2.0</td>\n",
       "      <td>1</td>\n",
       "      <td>0</td>\n",
       "      <td>53.1000</td>\n",
       "      <td>3.0</td>\n",
       "    </tr>\n",
       "    <tr>\n",
       "      <th>4</th>\n",
       "      <td>0</td>\n",
       "      <td>3</td>\n",
       "      <td>1.0</td>\n",
       "      <td>2.0</td>\n",
       "      <td>0</td>\n",
       "      <td>0</td>\n",
       "      <td>8.0500</td>\n",
       "      <td>3.0</td>\n",
       "    </tr>\n",
       "  </tbody>\n",
       "</table>\n",
       "</div>"
      ],
      "text/plain": [
       "   Survived  Pclass  Sex  Age  SibSp  Parch     Fare  Embarked\n",
       "0         0       3  1.0  2.0      1      0   7.2500       3.0\n",
       "1         1       1  0.0  2.0      1      0  71.2833       1.0\n",
       "2         1       3  0.0  2.0      0      0   7.9250       3.0\n",
       "3         1       1  0.0  2.0      1      0  53.1000       3.0\n",
       "4         0       3  1.0  2.0      0      0   8.0500       3.0"
      ]
     },
     "execution_count": 11,
     "metadata": {},
     "output_type": "execute_result"
    }
   ],
   "source": [
    "train['Age'].fillna(train['Age'].mean(),inplace=True)\n",
    "age = np.zeros(len(train))\n",
    "age[train['Age']<20] = 1\n",
    "age[(train['Age']>=20)&(train['Age']<60)] = 2\n",
    "age[(train['Age']>=60)] = 3\n",
    "train['Age'] = age\n",
    "train.head()"
   ]
  },
  {
   "cell_type": "code",
   "execution_count": 12,
   "id": "559799d6",
   "metadata": {
    "_cell_guid": "5dd346e0-b904-218f-d75e-8654ee53bdf8",
    "execution": {
     "iopub.execute_input": "2021-07-19T11:16:59.935312Z",
     "iopub.status.busy": "2021-07-19T11:16:59.932017Z",
     "iopub.status.idle": "2021-07-19T11:17:00.688036Z",
     "shell.execute_reply": "2021-07-19T11:17:00.686977Z",
     "shell.execute_reply.started": "2021-07-19T11:15:56.268755Z"
    },
    "papermill": {
     "duration": 0.806523,
     "end_time": "2021-07-19T11:17:00.688188",
     "exception": false,
     "start_time": "2021-07-19T11:16:59.881665",
     "status": "completed"
    },
    "tags": []
   },
   "outputs": [
    {
     "data": {
      "text/plain": [
       "<AxesSubplot:title={'center':'Pearson Correlation of Movie Features'}>"
      ]
     },
     "execution_count": 12,
     "metadata": {},
     "output_type": "execute_result"
    },
    {
     "data": {
      "image/png": "[encoded data removed]",
      "text/plain": [
       "<Figure size 864x720 with 2 Axes>"
      ]
     },
     "metadata": {
      "needs_background": "light"
     },
     "output_type": "display_data"
    }
   ],
   "source": [
    "# Set up the matplotlib figure\n",
    "f, ax = plt.subplots(figsize=(12, 10))\n",
    "plt.title('Pearson Correlation of Movie Features')\n",
    "# Draw the heatmap using seaborn\n",
    "sns.heatmap(train.astype(float).corr(),linewidths=0.25,vmax=1.0, square=True, cmap=\"YlGnBu\", linecolor='black', annot=True)"
   ]
  },
  {
   "cell_type": "markdown",
   "id": "2fd75f54",
   "metadata": {
    "_cell_guid": "2940679b-7225-cd5a-12fd-7c027e8cae6e",
    "papermill": {
     "duration": 0.030797,
     "end_time": "2021-07-19T11:17:00.750050",
     "exception": false,
     "start_time": "2021-07-19T11:17:00.719253",
     "status": "completed"
    },
    "tags": []
   },
   "source": [
    "## 6. MODELLING ##"
   ]
  },
  {
   "cell_type": "code",
   "execution_count": 13,
   "id": "e8f2beff",
   "metadata": {
    "_cell_guid": "0a3ae619-2af7-ee61-baac-fa4a629cdd93",
    "execution": {
     "iopub.execute_input": "2021-07-19T11:17:00.821202Z",
     "iopub.status.busy": "2021-07-19T11:17:00.820434Z",
     "iopub.status.idle": "2021-07-19T11:17:00.833039Z",
     "shell.execute_reply": "2021-07-19T11:17:00.833618Z",
     "shell.execute_reply.started": "2021-07-19T11:15:57.002699Z"
    },
    "papermill": {
     "duration": 0.051934,
     "end_time": "2021-07-19T11:17:00.833805",
     "exception": false,
     "start_time": "2021-07-19T11:17:00.781871",
     "status": "completed"
    },
    "tags": []
   },
   "outputs": [
    {
     "name": "stdout",
     "output_type": "stream",
     "text": [
      "   Pclass  Sex  Age  SibSp  Parch     Fare  Embarked\n",
      "0       3  1.0  2.0      1      0   7.2500       3.0\n",
      "1       1  0.0  2.0      1      0  71.2833       1.0\n",
      "2       3  0.0  2.0      0      0   7.9250       3.0\n",
      "3       1  0.0  2.0      1      0  53.1000       3.0\n",
      "4       3  1.0  2.0      0      0   8.0500       3.0\n",
      "0    0\n",
      "1    1\n",
      "2    1\n",
      "3    1\n",
      "4    0\n",
      "Name: Survived, dtype: int64\n"
     ]
    },
    {
     "name": "stderr",
     "output_type": "stream",
     "text": [
      "/opt/conda/lib/python3.7/site-packages/sklearn/model_selection/_split.py:297: FutureWarning: Setting a random_state has no effect since shuffle is False. This will raise an error in 0.24. You should leave random_state to its default (None), or set shuffle=True.\n",
      "  FutureWarning\n"
     ]
    }
   ],
   "source": [
    "from sklearn.model_selection import cross_val_score, KFold\n",
    "\n",
    "train_y=train['Survived']\n",
    "train_ft=train.drop('Survived',axis=1)\n",
    "kf = KFold(n_splits=10,random_state=1)\n",
    "print(train_ft.head())\n",
    "print(train_y.head())\n",
    "\n"
   ]
  },
  {
   "cell_type": "code",
   "execution_count": 14,
   "id": "514c6adb",
   "metadata": {
    "_cell_guid": "35a87543-72a1-869f-ad56-46c3a9762b99",
    "execution": {
     "iopub.execute_input": "2021-07-19T11:17:00.908625Z",
     "iopub.status.busy": "2021-07-19T11:17:00.907899Z",
     "iopub.status.idle": "2021-07-19T11:17:01.367676Z",
     "shell.execute_reply": "2021-07-19T11:17:01.368153Z",
     "shell.execute_reply.started": "2021-07-19T11:15:57.020690Z"
    },
    "papermill": {
     "duration": 0.500085,
     "end_time": "2021-07-19T11:17:01.368356",
     "exception": false,
     "start_time": "2021-07-19T11:17:00.868271",
     "status": "completed"
    },
    "tags": []
   },
   "outputs": [
    {
     "name": "stdout",
     "output_type": "stream",
     "text": [
      "0.7732833957553059\n"
     ]
    }
   ],
   "source": [
    "from sklearn.svm import SVC, LinearSVC\n",
    "svc = SVC(C = 30, gamma = 0.01)\n",
    "svc.fit(train_ft, train_y) \n",
    "\n",
    "acc_SVM = cross_val_score(svc,train_ft,train_y,cv=kf)\n",
    "print(acc_SVM.mean())"
   ]
  },
  {
   "cell_type": "code",
   "execution_count": 15,
   "id": "1902bc69",
   "metadata": {
    "_cell_guid": "61a6f9ae-010d-64f0-734c-da6a72988eb1",
    "execution": {
     "iopub.execute_input": "2021-07-19T11:17:01.437569Z",
     "iopub.status.busy": "2021-07-19T11:17:01.436926Z",
     "iopub.status.idle": "2021-07-19T11:17:01.504008Z",
     "shell.execute_reply": "2021-07-19T11:17:01.504529Z",
     "shell.execute_reply.started": "2021-07-19T11:15:57.497478Z"
    },
    "papermill": {
     "duration": 0.104334,
     "end_time": "2021-07-19T11:17:01.504708",
     "exception": false,
     "start_time": "2021-07-19T11:17:01.400374",
     "status": "completed"
    },
    "tags": []
   },
   "outputs": [
    {
     "name": "stdout",
     "output_type": "stream",
     "text": [
      "0.665692883895131\n"
     ]
    },
    {
     "name": "stderr",
     "output_type": "stream",
     "text": [
      "/opt/conda/lib/python3.7/site-packages/sklearn/utils/deprecation.py:143: FutureWarning: The sklearn.neighbors.nearest_centroid module is  deprecated in version 0.22 and will be removed in version 0.24. The corresponding classes / functions should instead be imported from sklearn.neighbors. Anything that cannot be imported from sklearn.neighbors is now part of the private API.\n",
      "  warnings.warn(message, FutureWarning)\n"
     ]
    }
   ],
   "source": [
    "from sklearn.neighbors.nearest_centroid import NearestCentroid\n",
    "NN = NearestCentroid()\n",
    "NN.fit(train_ft, train_y)\n",
    "acc_NN = cross_val_score(NN,train_ft,train_y,cv=kf)\n",
    "print(acc_NN.mean())"
   ]
  },
  {
   "cell_type": "markdown",
   "id": "2aeca335",
   "metadata": {
    "_cell_guid": "879dab7e-83ed-d2c8-85b8-4604aa705997",
    "papermill": {
     "duration": 0.032439,
     "end_time": "2021-07-19T11:17:01.570545",
     "exception": false,
     "start_time": "2021-07-19T11:17:01.538106",
     "status": "completed"
    },
    "tags": []
   },
   "source": [
    "# 7. Preparing our prediction for submission"
   ]
  },
  {
   "cell_type": "code",
   "execution_count": 16,
   "id": "9c739048",
   "metadata": {
    "_cell_guid": "f41bb7d9-7474-d26b-09dc-453673d13204",
    "execution": {
     "iopub.execute_input": "2021-07-19T11:17:01.638975Z",
     "iopub.status.busy": "2021-07-19T11:17:01.637984Z",
     "iopub.status.idle": "2021-07-19T11:17:01.644152Z",
     "shell.execute_reply": "2021-07-19T11:17:01.644620Z",
     "shell.execute_reply.started": "2021-07-19T11:15:57.572228Z"
    },
    "papermill": {
     "duration": 0.041974,
     "end_time": "2021-07-19T11:17:01.644805",
     "exception": false,
     "start_time": "2021-07-19T11:17:01.602831",
     "status": "completed"
    },
    "tags": []
   },
   "outputs": [],
   "source": [
    "sex_test = np.zeros(len(test))\n",
    "sex_test[test['Sex']== 'male'] = 1\n",
    "sex_test[test['Sex']== 'female'] = 0\n",
    "test['Sex'] = sex_test"
   ]
  },
  {
   "cell_type": "code",
   "execution_count": 17,
   "id": "fc14cccb",
   "metadata": {
    "_cell_guid": "ff304238-de63-72b3-d29d-5e467baac84c",
    "execution": {
     "iopub.execute_input": "2021-07-19T11:17:01.713274Z",
     "iopub.status.busy": "2021-07-19T11:17:01.712327Z",
     "iopub.status.idle": "2021-07-19T11:17:01.720961Z",
     "shell.execute_reply": "2021-07-19T11:17:01.721456Z",
     "shell.execute_reply.started": "2021-07-19T11:15:57.580656Z"
    },
    "papermill": {
     "duration": 0.044665,
     "end_time": "2021-07-19T11:17:01.721639",
     "exception": false,
     "start_time": "2021-07-19T11:17:01.676974",
     "status": "completed"
    },
    "tags": []
   },
   "outputs": [],
   "source": [
    "test['Embarked'].fillna(test['Embarked'].mode()[0],inplace=True)\n",
    "Embarked = np.zeros(len(test))\n",
    "Embarked[test['Embarked']== 'C'] = 1\n",
    "Embarked[test['Embarked']== 'Q'] = 2\n",
    "Embarked[test['Embarked']== 'S'] = 3\n",
    "test['Embarked'] = Embarked"
   ]
  },
  {
   "cell_type": "code",
   "execution_count": 18,
   "id": "0661a71c",
   "metadata": {
    "_cell_guid": "80ea6d27-8bba-2cfa-44da-17167fb02fac",
    "execution": {
     "iopub.execute_input": "2021-07-19T11:17:01.806687Z",
     "iopub.status.busy": "2021-07-19T11:17:01.805762Z",
     "iopub.status.idle": "2021-07-19T11:17:01.810015Z",
     "shell.execute_reply": "2021-07-19T11:17:01.809374Z",
     "shell.execute_reply.started": "2021-07-19T11:15:57.602225Z"
    },
    "papermill": {
     "duration": 0.05562,
     "end_time": "2021-07-19T11:17:01.810160",
     "exception": false,
     "start_time": "2021-07-19T11:17:01.754540",
     "status": "completed"
    },
    "tags": []
   },
   "outputs": [
    {
     "data": {
      "text/html": [
       "<div>\n",
       "<style scoped>\n",
       "    .dataframe tbody tr th:only-of-type {\n",
       "        vertical-align: middle;\n",
       "    }\n",
       "\n",
       "    .dataframe tbody tr th {\n",
       "        vertical-align: top;\n",
       "    }\n",
       "\n",
       "    .dataframe thead th {\n",
       "        text-align: right;\n",
       "    }\n",
       "</style>\n",
       "<table border=\"1\" class=\"dataframe\">\n",
       "  <thead>\n",
       "    <tr style=\"text-align: right;\">\n",
       "      <th></th>\n",
       "      <th>Pclass</th>\n",
       "      <th>Sex</th>\n",
       "      <th>Age</th>\n",
       "      <th>SibSp</th>\n",
       "      <th>Parch</th>\n",
       "      <th>Fare</th>\n",
       "      <th>Embarked</th>\n",
       "    </tr>\n",
       "  </thead>\n",
       "  <tbody>\n",
       "    <tr>\n",
       "      <th>0</th>\n",
       "      <td>3</td>\n",
       "      <td>1.0</td>\n",
       "      <td>2.0</td>\n",
       "      <td>0</td>\n",
       "      <td>0</td>\n",
       "      <td>7.8292</td>\n",
       "      <td>2.0</td>\n",
       "    </tr>\n",
       "    <tr>\n",
       "      <th>1</th>\n",
       "      <td>3</td>\n",
       "      <td>0.0</td>\n",
       "      <td>2.0</td>\n",
       "      <td>1</td>\n",
       "      <td>0</td>\n",
       "      <td>7.0000</td>\n",
       "      <td>3.0</td>\n",
       "    </tr>\n",
       "    <tr>\n",
       "      <th>2</th>\n",
       "      <td>2</td>\n",
       "      <td>1.0</td>\n",
       "      <td>3.0</td>\n",
       "      <td>0</td>\n",
       "      <td>0</td>\n",
       "      <td>9.6875</td>\n",
       "      <td>2.0</td>\n",
       "    </tr>\n",
       "    <tr>\n",
       "      <th>3</th>\n",
       "      <td>3</td>\n",
       "      <td>1.0</td>\n",
       "      <td>2.0</td>\n",
       "      <td>0</td>\n",
       "      <td>0</td>\n",
       "      <td>8.6625</td>\n",
       "      <td>3.0</td>\n",
       "    </tr>\n",
       "    <tr>\n",
       "      <th>4</th>\n",
       "      <td>3</td>\n",
       "      <td>0.0</td>\n",
       "      <td>2.0</td>\n",
       "      <td>1</td>\n",
       "      <td>1</td>\n",
       "      <td>12.2875</td>\n",
       "      <td>3.0</td>\n",
       "    </tr>\n",
       "  </tbody>\n",
       "</table>\n",
       "</div>"
      ],
      "text/plain": [
       "   Pclass  Sex  Age  SibSp  Parch     Fare  Embarked\n",
       "0       3  1.0  2.0      0      0   7.8292       2.0\n",
       "1       3  0.0  2.0      1      0   7.0000       3.0\n",
       "2       2  1.0  3.0      0      0   9.6875       2.0\n",
       "3       3  1.0  2.0      0      0   8.6625       3.0\n",
       "4       3  0.0  2.0      1      1  12.2875       3.0"
      ]
     },
     "execution_count": 18,
     "metadata": {},
     "output_type": "execute_result"
    }
   ],
   "source": [
    "age = np.zeros(len(test))\n",
    "age[test['Age']<20] = 1\n",
    "age[(test['Age']>=20)&(test['Age']<60)] = 2\n",
    "age[(test['Age']>=60)] = 3\n",
    "test['Age'] = age\n",
    "test['Fare'].fillna(test['Fare'].mean(),inplace=True)\n",
    "test.head()"
   ]
  },
  {
   "cell_type": "code",
   "execution_count": 19,
   "id": "42ebf411",
   "metadata": {
    "_cell_guid": "061baa3f-ac9a-693f-3c20-36aa531aac36",
    "execution": {
     "iopub.execute_input": "2021-07-19T11:17:01.884746Z",
     "iopub.status.busy": "2021-07-19T11:17:01.883831Z",
     "iopub.status.idle": "2021-07-19T11:17:01.887957Z",
     "shell.execute_reply": "2021-07-19T11:17:01.887354Z",
     "shell.execute_reply.started": "2021-07-19T11:15:57.631697Z"
    },
    "papermill": {
     "duration": 0.044718,
     "end_time": "2021-07-19T11:17:01.888093",
     "exception": false,
     "start_time": "2021-07-19T11:17:01.843375",
     "status": "completed"
    },
    "tags": []
   },
   "outputs": [
    {
     "data": {
      "text/plain": [
       "Pclass      0\n",
       "Sex         0\n",
       "Age         0\n",
       "SibSp       0\n",
       "Parch       0\n",
       "Fare        0\n",
       "Embarked    0\n",
       "dtype: int64"
      ]
     },
     "execution_count": 19,
     "metadata": {},
     "output_type": "execute_result"
    }
   ],
   "source": [
    "np.sum(test.isnull())"
   ]
  },
  {
   "cell_type": "code",
   "execution_count": 20,
   "id": "d3d3f00b",
   "metadata": {
    "_cell_guid": "3c98adee-6b95-a526-e754-1edfc915e1c2",
    "execution": {
     "iopub.execute_input": "2021-07-19T11:17:01.963323Z",
     "iopub.status.busy": "2021-07-19T11:17:01.962442Z",
     "iopub.status.idle": "2021-07-19T11:17:01.976369Z",
     "shell.execute_reply": "2021-07-19T11:17:01.975591Z",
     "shell.execute_reply.started": "2021-07-19T11:15:57.642601Z"
    },
    "papermill": {
     "duration": 0.054678,
     "end_time": "2021-07-19T11:17:01.976559",
     "exception": false,
     "start_time": "2021-07-19T11:17:01.921881",
     "status": "completed"
    },
    "tags": []
   },
   "outputs": [
    {
     "name": "stdout",
     "output_type": "stream",
     "text": [
      "[0 1 0 0 1 0 1 0 1 0 0 0 1 0 1 1 0 0 1 1 1 0 1 0 1 0 1 0 1 0 0 0 1 1 1 0 1\n",
      " 1 0 1 0 1 0 1 1 0 0 0 1 1 0 0 1 1 0 0 0 0 0 1 0 0 0 1 1 1 1 0 0 0 1 0 1 0\n",
      " 0 0 0 1 0 1 0 0 0 0 0 0 1 1 1 0 1 0 1 0 0 0 1 0 1 0 1 0 0 0 1 0 0 0 0 0 0\n",
      " 1 1 1 0 0 0 1 1 1 1 0 1 0 0 1 0 1 0 0 0 0 1 0 0 0 0 0 1 0 0 1 0 0 0 0 0 0\n",
      " 1 0 1 0 0 1 0 0 0 1 0 1 1 0 1 0 0 1 0 0 1 1 0 0 0 0 0 1 1 1 0 1 0 0 1 0 1\n",
      " 0 1 0 0 0 0 1 0 0 1 0 1 1 0 1 1 0 1 1 0 1 1 0 1 0 0 0 0 1 1 0 1 1 0 0 1 0\n",
      " 1 0 1 1 0 1 0 0 0 1 0 0 1 0 1 0 1 1 1 1 1 0 0 0 1 0 1 1 1 0 1 0 0 0 0 0 1\n",
      " 0 0 0 1 1 0 0 0 0 1 0 1 0 1 1 0 1 0 0 0 0 1 0 1 1 1 0 0 0 0 0 1 1 0 0 0 0\n",
      " 1 0 0 0 0 0 0 0 1 1 0 0 1 1 0 0 0 1 1 1 1 0 0 0 0 0 0 0 1 0 1 0 0 0 1 0 0\n",
      " 1 0 0 0 0 0 0 0 0 1 1 0 1 0 1 0 1 1 0 0 0 1 0 1 0 0 1 0 1 1 0 1 1 0 0 1 0\n",
      " 0 1 0 0 1 1 1 0 0 0 0 0 1 1 0 1 0 0 0 0 1 1 0 0 0 1 0 1 0 0 1 0 1 0 0 0 0\n",
      " 0 1 1 1 1 1 0 1 0 0 0]\n"
     ]
    }
   ],
   "source": [
    "predictions = svc.predict(test)\n",
    "print(predictions)"
   ]
  },
  {
   "cell_type": "code",
   "execution_count": 21,
   "id": "56f88340",
   "metadata": {
    "_cell_guid": "15421747-775d-a7b5-bdcb-8dc8b9ac0a0c",
    "execution": {
     "iopub.execute_input": "2021-07-19T11:17:02.051271Z",
     "iopub.status.busy": "2021-07-19T11:17:02.050233Z",
     "iopub.status.idle": "2021-07-19T11:17:02.058043Z",
     "shell.execute_reply": "2021-07-19T11:17:02.057398Z",
     "shell.execute_reply.started": "2021-07-19T11:15:57.669087Z"
    },
    "papermill": {
     "duration": 0.047242,
     "end_time": "2021-07-19T11:17:02.058178",
     "exception": false,
     "start_time": "2021-07-19T11:17:02.010936",
     "status": "completed"
    },
    "tags": []
   },
   "outputs": [],
   "source": [
    "submission = pd.DataFrame({ 'PassengerId': test2['PassengerId'],\n",
    "                            'Survived': predictions })\n",
    "submission.to_csv(\"submission.csv\", index=False)"
   ]
  },
  {
   "cell_type": "code",
   "execution_count": null,
   "id": "caf12672",
   "metadata": {
    "_cell_guid": "d067a277-296b-6bca-9614-57d3a3170938",
    "papermill": {
     "duration": 0.033183,
     "end_time": "2021-07-19T11:17:02.125617",
     "exception": false,
     "start_time": "2021-07-19T11:17:02.092434",
     "status": "completed"
    },
    "tags": []
   },
   "outputs": [],
   "source": []
  }
 ],
 "metadata": {
  "kernelspec": {
   "display_name": "Python 3",
   "language": "python",
   "name": "python3"
  },
  "language_info": {
   "codemirror_mode": {
    "name": "ipython",
    "version": 3
   },
   "file_extension": ".py",
   "mimetype": "text/x-python",
   "name": "python",
   "nbconvert_exporter": "python",
   "pygments_lexer": "ipython3",
   "version": "3.7.10"
  },
  "papermill": {
   "default_parameters": {},
   "duration": 21.865444,
   "end_time": "2021-07-19T11:17:03.970288",
   "environment_variables": {},
   "exception": null,
   "input_path": "__notebook__.ipynb",
   "output_path": "__notebook__.ipynb",
   "parameters": {},
   "start_time": "2021-07-19T11:16:42.104844",
   "version": "2.3.3"
  }
 },
 "nbformat": 4,
 "nbformat_minor": 5
}
