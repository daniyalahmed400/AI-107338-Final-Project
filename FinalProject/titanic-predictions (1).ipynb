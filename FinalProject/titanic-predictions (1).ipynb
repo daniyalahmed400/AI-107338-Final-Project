{
 "cells": [
  {
   "cell_type": "code",
   "execution_count": 1,
   "id": "fb2d0608",
   "metadata": {
    "_cell_guid": "b1076dfc-b9ad-4769-8c92-a6c4dae69d19",
    "_uuid": "8f2839f25d086af736a60e9eeb907d3b93b6e0e5",
    "execution": {
     "iopub.execute_input": "2021-07-17T17:45:44.295762Z",
     "iopub.status.busy": "2021-07-17T17:45:44.294659Z",
     "iopub.status.idle": "2021-07-17T17:45:45.614573Z",
     "shell.execute_reply": "2021-07-17T17:45:45.613825Z",
     "shell.execute_reply.started": "2021-07-17T17:10:48.018046Z"
    },
    "papermill": {
     "duration": 1.339569,
     "end_time": "2021-07-17T17:45:45.614811",
     "exception": false,
     "start_time": "2021-07-17T17:45:44.275242",
     "status": "completed"
    },
    "tags": []
   },
   "outputs": [
    {
     "name": "stdout",
     "output_type": "stream",
     "text": [
      "/kaggle/input/titanic/train.csv\n",
      "/kaggle/input/titanic/test.csv\n",
      "/kaggle/input/titanic/gender_submission.csv\n"
     ]
    }
   ],
   "source": [
    "# This Python 3 environment comes with many helpful analytics libraries installed\n",
    "# It is defined by the kaggle/python Docker image: https://github.com/kaggle/docker-python\n",
    "# For example, here's several helpful packages to load\n",
    "\n",
    "import numpy as np # linear algebra\n",
    "import pandas as pd # data processing, CSV file I/O (e.g. pd.read_csv)\n",
    "import matplotlib.pyplot as plt\n",
    "from sklearn.ensemble import RandomForestClassifier\n",
    "from sklearn.model_selection import cross_val_score\n",
    "from sklearn.preprocessing import OneHotEncoder\n",
    "from sklearn.compose import ColumnTransformer\n",
    "from sklearn.pipeline import Pipeline\n",
    "from sklearn.impute import SimpleImputer\n",
    "from sklearn.model_selection import GridSearchCV , RandomizedSearchCV\n",
    "import random\n",
    "\n",
    "\n",
    "# Input data files are available in the read-only \"../input/\" directory\n",
    "# For example, running this (by clicking run or pressing Shift+Enter) will list all files under the input directory\n",
    "\n",
    "import os\n",
    "for dirname, _, filenames in os.walk('/kaggle/input'):\n",
    "    for filename in filenames:\n",
    "        print(os.path.join(dirname, filename))\n",
    "\n",
    "# You can write up to 20GB to the current directory (/kaggle/working/) that gets preserved as output when you create a version using \"Save & Run All\" \n",
    "# You can also write temporary files to /kaggle/temp/, but they won't be saved outside of the current session"
   ]
  },
  {
   "cell_type": "code",
   "execution_count": 2,
   "id": "19c0796a",
   "metadata": {
    "execution": {
     "iopub.execute_input": "2021-07-17T17:45:45.651371Z",
     "iopub.status.busy": "2021-07-17T17:45:45.650441Z",
     "iopub.status.idle": "2021-07-17T17:45:45.668558Z",
     "shell.execute_reply": "2021-07-17T17:45:45.668049Z",
     "shell.execute_reply.started": "2021-07-17T17:10:48.03331Z"
    },
    "papermill": {
     "duration": 0.037836,
     "end_time": "2021-07-17T17:45:45.668699",
     "exception": false,
     "start_time": "2021-07-17T17:45:45.630863",
     "status": "completed"
    },
    "tags": []
   },
   "outputs": [],
   "source": [
    "df = pd.read_csv(\"../input/titanic/train.csv\")"
   ]
  },
  {
   "cell_type": "code",
   "execution_count": 3,
   "id": "e6ded7a9",
   "metadata": {
    "execution": {
     "iopub.execute_input": "2021-07-17T17:45:45.707921Z",
     "iopub.status.busy": "2021-07-17T17:45:45.704922Z",
     "iopub.status.idle": "2021-07-17T17:45:45.711809Z",
     "shell.execute_reply": "2021-07-17T17:45:45.711270Z",
     "shell.execute_reply.started": "2021-07-17T17:10:48.059128Z"
    },
    "papermill": {
     "duration": 0.028003,
     "end_time": "2021-07-17T17:45:45.711965",
     "exception": false,
     "start_time": "2021-07-17T17:45:45.683962",
     "status": "completed"
    },
    "tags": []
   },
   "outputs": [],
   "source": [
    "df = df.sample(frac=1)"
   ]
  },
  {
   "cell_type": "code",
   "execution_count": 4,
   "id": "0255d3ca",
   "metadata": {
    "execution": {
     "iopub.execute_input": "2021-07-17T17:45:45.754640Z",
     "iopub.status.busy": "2021-07-17T17:45:45.753977Z",
     "iopub.status.idle": "2021-07-17T17:45:45.774729Z",
     "shell.execute_reply": "2021-07-17T17:45:45.775302Z",
     "shell.execute_reply.started": "2021-07-17T17:10:48.072353Z"
    },
    "papermill": {
     "duration": 0.048049,
     "end_time": "2021-07-17T17:45:45.775490",
     "exception": false,
     "start_time": "2021-07-17T17:45:45.727441",
     "status": "completed"
    },
    "tags": []
   },
   "outputs": [
    {
     "data": {
      "text/html": [
       "<div>\n",
       "<style scoped>\n",
       "    .dataframe tbody tr th:only-of-type {\n",
       "        vertical-align: middle;\n",
       "    }\n",
       "\n",
       "    .dataframe tbody tr th {\n",
       "        vertical-align: top;\n",
       "    }\n",
       "\n",
       "    .dataframe thead th {\n",
       "        text-align: right;\n",
       "    }\n",
       "</style>\n",
       "<table border=\"1\" class=\"dataframe\">\n",
       "  <thead>\n",
       "    <tr style=\"text-align: right;\">\n",
       "      <th></th>\n",
       "      <th>PassengerId</th>\n",
       "      <th>Survived</th>\n",
       "      <th>Pclass</th>\n",
       "      <th>Name</th>\n",
       "      <th>Sex</th>\n",
       "      <th>Age</th>\n",
       "      <th>SibSp</th>\n",
       "      <th>Parch</th>\n",
       "      <th>Ticket</th>\n",
       "      <th>Fare</th>\n",
       "      <th>Cabin</th>\n",
       "      <th>Embarked</th>\n",
       "    </tr>\n",
       "  </thead>\n",
       "  <tbody>\n",
       "    <tr>\n",
       "      <th>376</th>\n",
       "      <td>377</td>\n",
       "      <td>1</td>\n",
       "      <td>3</td>\n",
       "      <td>Landergren, Miss. Aurora Adelia</td>\n",
       "      <td>female</td>\n",
       "      <td>22.0</td>\n",
       "      <td>0</td>\n",
       "      <td>0</td>\n",
       "      <td>C 7077</td>\n",
       "      <td>7.2500</td>\n",
       "      <td>NaN</td>\n",
       "      <td>S</td>\n",
       "    </tr>\n",
       "    <tr>\n",
       "      <th>11</th>\n",
       "      <td>12</td>\n",
       "      <td>1</td>\n",
       "      <td>1</td>\n",
       "      <td>Bonnell, Miss. Elizabeth</td>\n",
       "      <td>female</td>\n",
       "      <td>58.0</td>\n",
       "      <td>0</td>\n",
       "      <td>0</td>\n",
       "      <td>113783</td>\n",
       "      <td>26.5500</td>\n",
       "      <td>C103</td>\n",
       "      <td>S</td>\n",
       "    </tr>\n",
       "    <tr>\n",
       "      <th>741</th>\n",
       "      <td>742</td>\n",
       "      <td>0</td>\n",
       "      <td>1</td>\n",
       "      <td>Cavendish, Mr. Tyrell William</td>\n",
       "      <td>male</td>\n",
       "      <td>36.0</td>\n",
       "      <td>1</td>\n",
       "      <td>0</td>\n",
       "      <td>19877</td>\n",
       "      <td>78.8500</td>\n",
       "      <td>C46</td>\n",
       "      <td>S</td>\n",
       "    </tr>\n",
       "    <tr>\n",
       "      <th>411</th>\n",
       "      <td>412</td>\n",
       "      <td>0</td>\n",
       "      <td>3</td>\n",
       "      <td>Hart, Mr. Henry</td>\n",
       "      <td>male</td>\n",
       "      <td>NaN</td>\n",
       "      <td>0</td>\n",
       "      <td>0</td>\n",
       "      <td>394140</td>\n",
       "      <td>6.8583</td>\n",
       "      <td>NaN</td>\n",
       "      <td>Q</td>\n",
       "    </tr>\n",
       "    <tr>\n",
       "      <th>71</th>\n",
       "      <td>72</td>\n",
       "      <td>0</td>\n",
       "      <td>3</td>\n",
       "      <td>Goodwin, Miss. Lillian Amy</td>\n",
       "      <td>female</td>\n",
       "      <td>16.0</td>\n",
       "      <td>5</td>\n",
       "      <td>2</td>\n",
       "      <td>CA 2144</td>\n",
       "      <td>46.9000</td>\n",
       "      <td>NaN</td>\n",
       "      <td>S</td>\n",
       "    </tr>\n",
       "  </tbody>\n",
       "</table>\n",
       "</div>"
      ],
      "text/plain": [
       "     PassengerId  Survived  Pclass                             Name     Sex  \\\n",
       "376          377         1       3  Landergren, Miss. Aurora Adelia  female   \n",
       "11            12         1       1         Bonnell, Miss. Elizabeth  female   \n",
       "741          742         0       1    Cavendish, Mr. Tyrell William    male   \n",
       "411          412         0       3                  Hart, Mr. Henry    male   \n",
       "71            72         0       3       Goodwin, Miss. Lillian Amy  female   \n",
       "\n",
       "      Age  SibSp  Parch   Ticket     Fare Cabin Embarked  \n",
       "376  22.0      0      0   C 7077   7.2500   NaN        S  \n",
       "11   58.0      0      0   113783  26.5500  C103        S  \n",
       "741  36.0      1      0    19877  78.8500   C46        S  \n",
       "411   NaN      0      0   394140   6.8583   NaN        Q  \n",
       "71   16.0      5      2  CA 2144  46.9000   NaN        S  "
      ]
     },
     "execution_count": 4,
     "metadata": {},
     "output_type": "execute_result"
    }
   ],
   "source": [
    "df.head()"
   ]
  },
  {
   "cell_type": "code",
   "execution_count": 5,
   "id": "2dc4f9f4",
   "metadata": {
    "execution": {
     "iopub.execute_input": "2021-07-17T17:45:45.812448Z",
     "iopub.status.busy": "2021-07-17T17:45:45.811393Z",
     "iopub.status.idle": "2021-07-17T17:45:45.820058Z",
     "shell.execute_reply": "2021-07-17T17:45:45.819517Z",
     "shell.execute_reply.started": "2021-07-17T17:10:48.101183Z"
    },
    "papermill": {
     "duration": 0.029075,
     "end_time": "2021-07-17T17:45:45.820210",
     "exception": false,
     "start_time": "2021-07-17T17:45:45.791135",
     "status": "completed"
    },
    "tags": []
   },
   "outputs": [],
   "source": [
    "df.Ticket = df.Fare.astype(int)"
   ]
  },
  {
   "cell_type": "code",
   "execution_count": 6,
   "id": "10300510",
   "metadata": {
    "execution": {
     "iopub.execute_input": "2021-07-17T17:45:45.855196Z",
     "iopub.status.busy": "2021-07-17T17:45:45.854234Z",
     "iopub.status.idle": "2021-07-17T17:45:45.859805Z",
     "shell.execute_reply": "2021-07-17T17:45:45.860210Z",
     "shell.execute_reply.started": "2021-07-17T17:10:48.122234Z"
    },
    "papermill": {
     "duration": 0.024328,
     "end_time": "2021-07-17T17:45:45.860377",
     "exception": false,
     "start_time": "2021-07-17T17:45:45.836049",
     "status": "completed"
    },
    "tags": []
   },
   "outputs": [],
   "source": [
    "X = df.drop([\"Survived\" , \"Name\"] , axis=1)\n",
    "Y = df[\"Survived\"]"
   ]
  },
  {
   "cell_type": "code",
   "execution_count": 7,
   "id": "59e92352",
   "metadata": {
    "execution": {
     "iopub.execute_input": "2021-07-17T17:45:45.895816Z",
     "iopub.status.busy": "2021-07-17T17:45:45.894874Z",
     "iopub.status.idle": "2021-07-17T17:45:45.904243Z",
     "shell.execute_reply": "2021-07-17T17:45:45.903751Z",
     "shell.execute_reply.started": "2021-07-17T17:10:48.141741Z"
    },
    "papermill": {
     "duration": 0.027951,
     "end_time": "2021-07-17T17:45:45.904383",
     "exception": false,
     "start_time": "2021-07-17T17:45:45.876432",
     "status": "completed"
    },
    "tags": []
   },
   "outputs": [
    {
     "data": {
      "text/plain": [
       "PassengerId      0\n",
       "Pclass           0\n",
       "Sex              0\n",
       "Age            177\n",
       "SibSp            0\n",
       "Parch            0\n",
       "Ticket           0\n",
       "Fare             0\n",
       "Cabin          687\n",
       "Embarked         2\n",
       "dtype: int64"
      ]
     },
     "execution_count": 7,
     "metadata": {},
     "output_type": "execute_result"
    }
   ],
   "source": [
    "X.isna().sum()"
   ]
  },
  {
   "cell_type": "code",
   "execution_count": 8,
   "id": "a058f73d",
   "metadata": {
    "execution": {
     "iopub.execute_input": "2021-07-17T17:45:45.939356Z",
     "iopub.status.busy": "2021-07-17T17:45:45.938761Z",
     "iopub.status.idle": "2021-07-17T17:45:45.946196Z",
     "shell.execute_reply": "2021-07-17T17:45:45.946668Z",
     "shell.execute_reply.started": "2021-07-17T17:10:48.165321Z"
    },
    "papermill": {
     "duration": 0.026269,
     "end_time": "2021-07-17T17:45:45.946833",
     "exception": false,
     "start_time": "2021-07-17T17:45:45.920564",
     "status": "completed"
    },
    "tags": []
   },
   "outputs": [
    {
     "data": {
      "text/plain": [
       "376    1\n",
       "11     1\n",
       "741    0\n",
       "411    0\n",
       "71     0\n",
       "      ..\n",
       "291    1\n",
       "777    1\n",
       "535    1\n",
       "806    0\n",
       "10     1\n",
       "Name: Survived, Length: 891, dtype: int64"
      ]
     },
     "execution_count": 8,
     "metadata": {},
     "output_type": "execute_result"
    }
   ],
   "source": [
    "Y"
   ]
  },
  {
   "cell_type": "code",
   "execution_count": 9,
   "id": "38b86884",
   "metadata": {
    "execution": {
     "iopub.execute_input": "2021-07-17T17:45:45.982299Z",
     "iopub.status.busy": "2021-07-17T17:45:45.981530Z",
     "iopub.status.idle": "2021-07-17T17:45:45.988356Z",
     "shell.execute_reply": "2021-07-17T17:45:45.988848Z",
     "shell.execute_reply.started": "2021-07-17T17:10:48.188352Z"
    },
    "papermill": {
     "duration": 0.026131,
     "end_time": "2021-07-17T17:45:45.989024",
     "exception": false,
     "start_time": "2021-07-17T17:45:45.962893",
     "status": "completed"
    },
    "tags": []
   },
   "outputs": [],
   "source": [
    "np.random.seed(0)\n",
    "\n",
    "# Define different features and transformer pipeline\n",
    "categorical_features = [\"Sex\" , \"Pclass\" , \"Cabin\" , \"Ticket\"]\n",
    "categorical_transformer = Pipeline(steps=[\n",
    "    (\"imputer\", SimpleImputer(strategy=\"constant\", fill_value=\"missing\")),\n",
    "    (\"onehot\", OneHotEncoder(handle_unknown=\"ignore\"))])\n",
    "\n",
    "Embarked_features = [\"Embarked\"]\n",
    "Embarked_transformer = Pipeline(steps=[\n",
    "    (\"imputer\", SimpleImputer(strategy=\"constant\", fill_value=\"S\")),\n",
    "    (\"onehot\", OneHotEncoder(handle_unknown=\"ignore\"))])\n",
    "\n",
    "numeric_features = [\"Age\"]\n",
    "numeric_transformer = Pipeline(steps=[\n",
    "    (\"imputer\", SimpleImputer(strategy=\"mean\"))\n",
    "])\n",
    "\n",
    "# Setup preprocessing steps (fill missing values, then convert to numbers)\n",
    "preprocessor = ColumnTransformer(\n",
    "                    transformers=[\n",
    "                        (\"cat\", categorical_transformer, categorical_features),\n",
    "                        (\"num\", numeric_transformer, numeric_features),\n",
    "                        (\"emb\" , Embarked_transformer , Embarked_features)\n",
    "                    ])\n",
    "\n",
    "# Creating a preprocessing and modelling pipeline\n",
    "model = Pipeline(steps=[(\"preprocessor\", preprocessor),\n",
    "                        (\"model\", RandomForestClassifier())])"
   ]
  },
  {
   "cell_type": "code",
   "execution_count": 10,
   "id": "b0aebde8",
   "metadata": {
    "execution": {
     "iopub.execute_input": "2021-07-17T17:45:46.025414Z",
     "iopub.status.busy": "2021-07-17T17:45:46.024786Z",
     "iopub.status.idle": "2021-07-17T17:45:46.505061Z",
     "shell.execute_reply": "2021-07-17T17:45:46.504547Z",
     "shell.execute_reply.started": "2021-07-17T17:10:48.208848Z"
    },
    "papermill": {
     "duration": 0.499192,
     "end_time": "2021-07-17T17:45:46.505203",
     "exception": false,
     "start_time": "2021-07-17T17:45:46.006011",
     "status": "completed"
    },
    "tags": []
   },
   "outputs": [
    {
     "data": {
      "text/plain": [
       "Pipeline(steps=[('preprocessor',\n",
       "                 ColumnTransformer(transformers=[('cat',\n",
       "                                                  Pipeline(steps=[('imputer',\n",
       "                                                                   SimpleImputer(fill_value='missing',\n",
       "                                                                                 strategy='constant')),\n",
       "                                                                  ('onehot',\n",
       "                                                                   OneHotEncoder(handle_unknown='ignore'))]),\n",
       "                                                  ['Sex', 'Pclass', 'Cabin',\n",
       "                                                   'Ticket']),\n",
       "                                                 ('num',\n",
       "                                                  Pipeline(steps=[('imputer',\n",
       "                                                                   SimpleImputer())]),\n",
       "                                                  ['Age']),\n",
       "                                                 ('emb',\n",
       "                                                  Pipeline(steps=[('imputer',\n",
       "                                                                   SimpleImputer(fill_value='S',\n",
       "                                                                                 strategy='constant')),\n",
       "                                                                  ('onehot',\n",
       "                                                                   OneHotEncoder(handle_unknown='ignore'))]),\n",
       "                                                  ['Embarked'])])),\n",
       "                ('model', RandomForestClassifier())])"
      ]
     },
     "execution_count": 10,
     "metadata": {},
     "output_type": "execute_result"
    }
   ],
   "source": [
    "model.fit(X,Y)"
   ]
  },
  {
   "cell_type": "code",
   "execution_count": 11,
   "id": "167f76b0",
   "metadata": {
    "execution": {
     "iopub.execute_input": "2021-07-17T17:45:46.548077Z",
     "iopub.status.busy": "2021-07-17T17:45:46.547082Z",
     "iopub.status.idle": "2021-07-17T17:45:46.585912Z",
     "shell.execute_reply": "2021-07-17T17:45:46.585425Z",
     "shell.execute_reply.started": "2021-07-17T17:10:48.678588Z"
    },
    "papermill": {
     "duration": 0.06431,
     "end_time": "2021-07-17T17:45:46.586054",
     "exception": false,
     "start_time": "2021-07-17T17:45:46.521744",
     "status": "completed"
    },
    "tags": []
   },
   "outputs": [
    {
     "data": {
      "text/plain": [
       "0.9708193041526375"
      ]
     },
     "execution_count": 11,
     "metadata": {},
     "output_type": "execute_result"
    }
   ],
   "source": [
    "model.score(X,Y)"
   ]
  },
  {
   "cell_type": "code",
   "execution_count": 12,
   "id": "0ecd7871",
   "metadata": {
    "execution": {
     "iopub.execute_input": "2021-07-17T17:45:46.625262Z",
     "iopub.status.busy": "2021-07-17T17:45:46.624628Z",
     "iopub.status.idle": "2021-07-17T17:45:46.627487Z",
     "shell.execute_reply": "2021-07-17T17:45:46.626864Z",
     "shell.execute_reply.started": "2021-07-17T17:10:48.722047Z"
    },
    "papermill": {
     "duration": 0.024867,
     "end_time": "2021-07-17T17:45:46.627629",
     "exception": false,
     "start_time": "2021-07-17T17:45:46.602762",
     "status": "completed"
    },
    "tags": []
   },
   "outputs": [],
   "source": [
    "pipe_grid = {\n",
    "    \"preprocessor__num__imputer__strategy\": [\"mean\", \"median\"],\n",
    "    \"model__criterion\": [\"gini\" , \"entropy\"],\n",
    "    \"model__n_estimators\": [200, 400, 600, 800, 1000, 1200, 1400, 1600, 1800, 2000],\n",
    "    \"model__max_depth\": [10, 20, 30, 40, 50, 60, 70, 80, 90, 100, None],\n",
    "    \"model__max_features\": [\"auto\", \"sqrt\", \"log2\"],\n",
    "    \"model__min_samples_split\": np.arange(2,8,2),\n",
    "    \"model__min_samples_leaf\": np.arange(1,10,1)\n",
    "}"
   ]
  },
  {
   "cell_type": "code",
   "execution_count": 13,
   "id": "23c54f9f",
   "metadata": {
    "execution": {
     "iopub.execute_input": "2021-07-17T17:45:46.664171Z",
     "iopub.status.busy": "2021-07-17T17:45:46.663562Z",
     "iopub.status.idle": "2021-07-17T17:58:41.277315Z",
     "shell.execute_reply": "2021-07-17T17:58:41.276812Z",
     "shell.execute_reply.started": "2021-07-17T17:10:48.728235Z"
    },
    "papermill": {
     "duration": 774.632927,
     "end_time": "2021-07-17T17:58:41.277448",
     "exception": false,
     "start_time": "2021-07-17T17:45:46.644521",
     "status": "completed"
    },
    "tags": []
   },
   "outputs": [
    {
     "name": "stdout",
     "output_type": "stream",
     "text": [
      "Fitting 5 folds for each of 200 candidates, totalling 1000 fits\n"
     ]
    },
    {
     "name": "stderr",
     "output_type": "stream",
     "text": [
      "[Parallel(n_jobs=-1)]: Using backend LokyBackend with 4 concurrent workers.\n",
      "[Parallel(n_jobs=-1)]: Done  33 tasks      | elapsed:   29.6s\n",
      "[Parallel(n_jobs=-1)]: Done 154 tasks      | elapsed:  2.1min\n",
      "[Parallel(n_jobs=-1)]: Done 357 tasks      | elapsed:  4.9min\n",
      "[Parallel(n_jobs=-1)]: Done 640 tasks      | elapsed:  8.4min\n",
      "[Parallel(n_jobs=-1)]: Done 1000 out of 1000 | elapsed: 12.9min finished\n"
     ]
    },
    {
     "data": {
      "text/plain": [
       "RandomizedSearchCV(cv=5,\n",
       "                   estimator=Pipeline(steps=[('preprocessor',\n",
       "                                              ColumnTransformer(transformers=[('cat',\n",
       "                                                                               Pipeline(steps=[('imputer',\n",
       "                                                                                                SimpleImputer(fill_value='missing',\n",
       "                                                                                                              strategy='constant')),\n",
       "                                                                                               ('onehot',\n",
       "                                                                                                OneHotEncoder(handle_unknown='ignore'))]),\n",
       "                                                                               ['Sex',\n",
       "                                                                                'Pclass',\n",
       "                                                                                'Cabin',\n",
       "                                                                                'Ticket']),\n",
       "                                                                              ('num',\n",
       "                                                                               Pipeline(steps=[('imputer',\n",
       "                                                                                                SimpleImputer())]),\n",
       "                                                                               ['Age']),\n",
       "                                                                              ('emb',\n",
       "                                                                               Pipel...\n",
       "                                        'model__max_depth': [10, 20, 30, 40, 50,\n",
       "                                                             60, 70, 80, 90,\n",
       "                                                             100, None],\n",
       "                                        'model__max_features': ['auto', 'sqrt',\n",
       "                                                                'log2'],\n",
       "                                        'model__min_samples_leaf': array([1, 2, 3, 4, 5, 6, 7, 8, 9]),\n",
       "                                        'model__min_samples_split': array([2, 4, 6]),\n",
       "                                        'model__n_estimators': [200, 400, 600,\n",
       "                                                                800, 1000, 1200,\n",
       "                                                                1400, 1600,\n",
       "                                                                1800, 2000],\n",
       "                                        'preprocessor__num__imputer__strategy': ['mean',\n",
       "                                                                                 'median']},\n",
       "                   random_state=0, verbose=2)"
      ]
     },
     "execution_count": 13,
     "metadata": {},
     "output_type": "execute_result"
    }
   ],
   "source": [
    "gs_model = RandomizedSearchCV(model, pipe_grid, cv=5, n_iter=200, verbose=2 , n_jobs=-1 , random_state=0)\n",
    "gs_model.fit(X,Y)"
   ]
  },
  {
   "cell_type": "code",
   "execution_count": 14,
   "id": "a92c244a",
   "metadata": {
    "execution": {
     "iopub.execute_input": "2021-07-17T17:58:41.321269Z",
     "iopub.status.busy": "2021-07-17T17:58:41.320365Z",
     "iopub.status.idle": "2021-07-17T17:58:41.324822Z",
     "shell.execute_reply": "2021-07-17T17:58:41.324241Z",
     "shell.execute_reply.started": "2021-07-17T17:20:59.936877Z"
    },
    "papermill": {
     "duration": 0.028734,
     "end_time": "2021-07-17T17:58:41.324957",
     "exception": false,
     "start_time": "2021-07-17T17:58:41.296223",
     "status": "completed"
    },
    "tags": []
   },
   "outputs": [
    {
     "data": {
      "text/plain": [
       "{'preprocessor__num__imputer__strategy': 'median',\n",
       " 'model__n_estimators': 400,\n",
       " 'model__min_samples_split': 2,\n",
       " 'model__min_samples_leaf': 1,\n",
       " 'model__max_features': 'sqrt',\n",
       " 'model__max_depth': 20,\n",
       " 'model__criterion': 'gini'}"
      ]
     },
     "execution_count": 14,
     "metadata": {},
     "output_type": "execute_result"
    }
   ],
   "source": [
    "gs_model.best_params_"
   ]
  },
  {
   "cell_type": "code",
   "execution_count": 15,
   "id": "c752735f",
   "metadata": {
    "execution": {
     "iopub.execute_input": "2021-07-17T17:58:41.368438Z",
     "iopub.status.busy": "2021-07-17T17:58:41.367806Z",
     "iopub.status.idle": "2021-07-17T17:58:41.371160Z",
     "shell.execute_reply": "2021-07-17T17:58:41.370578Z",
     "shell.execute_reply.started": "2021-07-17T17:20:59.945477Z"
    },
    "papermill": {
     "duration": 0.027338,
     "end_time": "2021-07-17T17:58:41.371296",
     "exception": false,
     "start_time": "2021-07-17T17:58:41.343958",
     "status": "completed"
    },
    "tags": []
   },
   "outputs": [],
   "source": [
    "pipe_grid_2 = {\n",
    "    \"preprocessor__num__imputer__strategy\": [\"median\"],\n",
    "    \"model__criterion\": [\"gini\"],\n",
    "    \"model__n_estimators\": [400,500],\n",
    "    \"model__max_depth\": [20,25,30],\n",
    "    \"model__max_features\": [\"sqrt\"],\n",
    "    \"model__min_samples_split\": [2],\n",
    "    \"model__min_samples_leaf\": [1,2]\n",
    "}"
   ]
  },
  {
   "cell_type": "code",
   "execution_count": 16,
   "id": "a557f003",
   "metadata": {
    "execution": {
     "iopub.execute_input": "2021-07-17T17:58:41.416812Z",
     "iopub.status.busy": "2021-07-17T17:58:41.416046Z",
     "iopub.status.idle": "2021-07-17T17:59:09.158026Z",
     "shell.execute_reply": "2021-07-17T17:59:09.158485Z",
     "shell.execute_reply.started": "2021-07-17T17:20:59.96495Z"
    },
    "papermill": {
     "duration": 27.768076,
     "end_time": "2021-07-17T17:59:09.158685",
     "exception": false,
     "start_time": "2021-07-17T17:58:41.390609",
     "status": "completed"
    },
    "tags": []
   },
   "outputs": [
    {
     "name": "stdout",
     "output_type": "stream",
     "text": [
      "Fitting 5 folds for each of 12 candidates, totalling 60 fits\n"
     ]
    },
    {
     "name": "stderr",
     "output_type": "stream",
     "text": [
      "[Parallel(n_jobs=-1)]: Using backend LokyBackend with 4 concurrent workers.\n",
      "[Parallel(n_jobs=-1)]: Done  42 tasks      | elapsed:   18.3s\n",
      "[Parallel(n_jobs=-1)]: Done  60 out of  60 | elapsed:   26.1s finished\n"
     ]
    },
    {
     "data": {
      "text/plain": [
       "GridSearchCV(cv=5,\n",
       "             estimator=Pipeline(steps=[('preprocessor',\n",
       "                                        ColumnTransformer(transformers=[('cat',\n",
       "                                                                         Pipeline(steps=[('imputer',\n",
       "                                                                                          SimpleImputer(fill_value='missing',\n",
       "                                                                                                        strategy='constant')),\n",
       "                                                                                         ('onehot',\n",
       "                                                                                          OneHotEncoder(handle_unknown='ignore'))]),\n",
       "                                                                         ['Sex',\n",
       "                                                                          'Pclass',\n",
       "                                                                          'Cabin',\n",
       "                                                                          'Ticket']),\n",
       "                                                                        ('num',\n",
       "                                                                         Pipeline(steps=[('imputer',\n",
       "                                                                                          SimpleImputer())]),\n",
       "                                                                         ['Age']),\n",
       "                                                                        ('emb',\n",
       "                                                                         Pipeline(st...\n",
       "                                                                                          OneHotEncoder(handle_unknown='ignore'))]),\n",
       "                                                                         ['Embarked'])])),\n",
       "                                       ('model', RandomForestClassifier())]),\n",
       "             n_jobs=-1,\n",
       "             param_grid={'model__criterion': ['gini'],\n",
       "                         'model__max_depth': [20, 25, 30],\n",
       "                         'model__max_features': ['sqrt'],\n",
       "                         'model__min_samples_leaf': [1, 2],\n",
       "                         'model__min_samples_split': [2],\n",
       "                         'model__n_estimators': [400, 500],\n",
       "                         'preprocessor__num__imputer__strategy': ['median']},\n",
       "             verbose=True)"
      ]
     },
     "execution_count": 16,
     "metadata": {},
     "output_type": "execute_result"
    }
   ],
   "source": [
    "gs_model = GridSearchCV(model, pipe_grid_2, cv=5, verbose=True , n_jobs=-1 )\n",
    "gs_model.fit(X,Y)"
   ]
  },
  {
   "cell_type": "code",
   "execution_count": 17,
   "id": "e2d262b5",
   "metadata": {
    "execution": {
     "iopub.execute_input": "2021-07-17T17:59:09.204737Z",
     "iopub.status.busy": "2021-07-17T17:59:09.204033Z",
     "iopub.status.idle": "2021-07-17T17:59:09.208053Z",
     "shell.execute_reply": "2021-07-17T17:59:09.208479Z",
     "shell.execute_reply.started": "2021-07-17T17:21:22.760429Z"
    },
    "papermill": {
     "duration": 0.029704,
     "end_time": "2021-07-17T17:59:09.208676",
     "exception": false,
     "start_time": "2021-07-17T17:59:09.178972",
     "status": "completed"
    },
    "tags": []
   },
   "outputs": [
    {
     "data": {
      "text/plain": [
       "{'model__criterion': 'gini',\n",
       " 'model__max_depth': 20,\n",
       " 'model__max_features': 'sqrt',\n",
       " 'model__min_samples_leaf': 1,\n",
       " 'model__min_samples_split': 2,\n",
       " 'model__n_estimators': 400,\n",
       " 'preprocessor__num__imputer__strategy': 'median'}"
      ]
     },
     "execution_count": 17,
     "metadata": {},
     "output_type": "execute_result"
    }
   ],
   "source": [
    "gs_model.best_params_"
   ]
  },
  {
   "cell_type": "code",
   "execution_count": 18,
   "id": "e7420790",
   "metadata": {
    "execution": {
     "iopub.execute_input": "2021-07-17T17:59:09.254355Z",
     "iopub.status.busy": "2021-07-17T17:59:09.253786Z",
     "iopub.status.idle": "2021-07-17T17:59:09.269069Z",
     "shell.execute_reply": "2021-07-17T17:59:09.268518Z",
     "shell.execute_reply.started": "2021-07-17T17:21:22.767552Z"
    },
    "papermill": {
     "duration": 0.04012,
     "end_time": "2021-07-17T17:59:09.269208",
     "exception": false,
     "start_time": "2021-07-17T17:59:09.229088",
     "status": "completed"
    },
    "tags": []
   },
   "outputs": [],
   "source": [
    "df_test = pd.read_csv(\"../input/titanic/test.csv\")"
   ]
  },
  {
   "cell_type": "code",
   "execution_count": 19,
   "id": "79050103",
   "metadata": {
    "execution": {
     "iopub.execute_input": "2021-07-17T17:59:09.320634Z",
     "iopub.status.busy": "2021-07-17T17:59:09.319955Z",
     "iopub.status.idle": "2021-07-17T17:59:09.388363Z",
     "shell.execute_reply": "2021-07-17T17:59:09.387835Z",
     "shell.execute_reply.started": "2021-07-17T17:21:22.800882Z"
    },
    "papermill": {
     "duration": 0.098687,
     "end_time": "2021-07-17T17:59:09.388537",
     "exception": false,
     "start_time": "2021-07-17T17:59:09.289850",
     "status": "completed"
    },
    "tags": []
   },
   "outputs": [],
   "source": [
    "x_test = df_test.drop([\"Name\"] , axis=1)\n",
    "y_preds = gs_model.predict(x_test)"
   ]
  },
  {
   "cell_type": "code",
   "execution_count": 20,
   "id": "ef893705",
   "metadata": {
    "execution": {
     "iopub.execute_input": "2021-07-17T17:59:09.436039Z",
     "iopub.status.busy": "2021-07-17T17:59:09.435384Z",
     "iopub.status.idle": "2021-07-17T17:59:09.438376Z",
     "shell.execute_reply": "2021-07-17T17:59:09.438863Z",
     "shell.execute_reply.started": "2021-07-17T17:21:22.908174Z"
    },
    "papermill": {
     "duration": 0.029904,
     "end_time": "2021-07-17T17:59:09.439037",
     "exception": false,
     "start_time": "2021-07-17T17:59:09.409133",
     "status": "completed"
    },
    "tags": []
   },
   "outputs": [
    {
     "data": {
      "text/plain": [
       "array([0, 0, 0, 0, 0, 0, 1, 0, 1, 0, 0, 0, 1, 0, 1, 1, 0, 0, 0, 1, 0, 0,\n",
       "       1, 0, 1, 0, 1, 0, 0, 0, 0, 0, 0, 0, 0, 0, 0, 0, 0, 0, 0, 0, 0, 1,\n",
       "       1, 0, 0, 0, 1, 0, 0, 0, 1, 1, 0, 0, 0, 0, 0, 1, 0, 0, 0, 1, 1, 1,\n",
       "       1, 0, 0, 1, 1, 0, 0, 0, 1, 0, 0, 1, 0, 1, 0, 0, 0, 0, 0, 0, 1, 0,\n",
       "       1, 1, 0, 0, 1, 0, 0, 0, 1, 0, 0, 0, 1, 0, 0, 0, 1, 0, 0, 0, 0, 0,\n",
       "       0, 1, 1, 1, 1, 0, 0, 1, 0, 1, 1, 0, 1, 0, 0, 0, 0, 1, 0, 0, 0, 0,\n",
       "       0, 0, 0, 0, 0, 0, 0, 0, 0, 1, 0, 0, 0, 0, 0, 0, 0, 0, 1, 0, 0, 0,\n",
       "       0, 0, 1, 0, 0, 0, 1, 0, 1, 0, 0, 0, 0, 0, 1, 0, 0, 0, 0, 0, 0, 1,\n",
       "       1, 0, 1, 1, 0, 0, 1, 0, 1, 0, 1, 0, 0, 0, 0, 0, 0, 0, 1, 0, 1, 0,\n",
       "       0, 0, 1, 0, 0, 1, 0, 0, 0, 0, 1, 0, 0, 0, 0, 1, 0, 0, 1, 0, 1, 0,\n",
       "       1, 0, 1, 0, 1, 1, 0, 1, 0, 0, 0, 1, 0, 0, 0, 0, 0, 0, 1, 1, 1, 1,\n",
       "       0, 0, 0, 0, 1, 0, 1, 1, 1, 0, 0, 0, 0, 0, 0, 0, 1, 0, 0, 0, 1, 0,\n",
       "       0, 0, 0, 0, 0, 0, 0, 0, 1, 1, 0, 1, 0, 0, 0, 0, 0, 0, 1, 1, 0, 0,\n",
       "       0, 0, 0, 0, 0, 1, 0, 0, 0, 0, 1, 0, 0, 0, 0, 0, 0, 0, 1, 1, 0, 0,\n",
       "       0, 0, 0, 0, 0, 0, 1, 1, 0, 0, 0, 0, 0, 0, 0, 0, 1, 0, 1, 0, 0, 0,\n",
       "       1, 0, 0, 1, 0, 0, 0, 0, 0, 0, 0, 0, 0, 1, 0, 0, 0, 1, 0, 1, 1, 0,\n",
       "       0, 0, 1, 0, 1, 0, 0, 0, 0, 1, 1, 0, 1, 0, 0, 0, 1, 0, 0, 1, 0, 0,\n",
       "       1, 1, 0, 0, 0, 0, 0, 0, 0, 0, 0, 1, 0, 0, 0, 0, 0, 1, 0, 0, 0, 1,\n",
       "       0, 1, 0, 0, 1, 0, 1, 0, 0, 0, 0, 0, 1, 0, 1, 1, 0, 0, 1, 0, 0, 0])"
      ]
     },
     "execution_count": 20,
     "metadata": {},
     "output_type": "execute_result"
    }
   ],
   "source": [
    "survived = y_preds\n",
    "survived"
   ]
  },
  {
   "cell_type": "code",
   "execution_count": 21,
   "id": "ff6dbf0c",
   "metadata": {
    "execution": {
     "iopub.execute_input": "2021-07-17T17:59:09.484775Z",
     "iopub.status.busy": "2021-07-17T17:59:09.484104Z",
     "iopub.status.idle": "2021-07-17T17:59:09.488636Z",
     "shell.execute_reply": "2021-07-17T17:59:09.488111Z",
     "shell.execute_reply.started": "2021-07-17T17:21:22.919137Z"
    },
    "papermill": {
     "duration": 0.028275,
     "end_time": "2021-07-17T17:59:09.488777",
     "exception": false,
     "start_time": "2021-07-17T17:59:09.460502",
     "status": "completed"
    },
    "tags": []
   },
   "outputs": [],
   "source": [
    "dict = {\"PassengerId\" : x_test[\"PassengerId\"],\n",
    "       \"Survived\" : y_preds}"
   ]
  },
  {
   "cell_type": "code",
   "execution_count": 22,
   "id": "2c6bcbaf",
   "metadata": {
    "execution": {
     "iopub.execute_input": "2021-07-17T17:59:09.533935Z",
     "iopub.status.busy": "2021-07-17T17:59:09.533291Z",
     "iopub.status.idle": "2021-07-17T17:59:09.537599Z",
     "shell.execute_reply": "2021-07-17T17:59:09.538107Z",
     "shell.execute_reply.started": "2021-07-17T17:21:22.935151Z"
    },
    "papermill": {
     "duration": 0.028354,
     "end_time": "2021-07-17T17:59:09.538278",
     "exception": false,
     "start_time": "2021-07-17T17:59:09.509924",
     "status": "completed"
    },
    "tags": []
   },
   "outputs": [],
   "source": [
    "final = pd.DataFrame(dict,\n",
    "                    index = None)"
   ]
  },
  {
   "cell_type": "code",
   "execution_count": 23,
   "id": "247331e6",
   "metadata": {
    "execution": {
     "iopub.execute_input": "2021-07-17T17:59:09.585580Z",
     "iopub.status.busy": "2021-07-17T17:59:09.584941Z",
     "iopub.status.idle": "2021-07-17T17:59:09.594745Z",
     "shell.execute_reply": "2021-07-17T17:59:09.595192Z",
     "shell.execute_reply.started": "2021-07-17T17:21:22.955696Z"
    },
    "papermill": {
     "duration": 0.034607,
     "end_time": "2021-07-17T17:59:09.595373",
     "exception": false,
     "start_time": "2021-07-17T17:59:09.560766",
     "status": "completed"
    },
    "tags": []
   },
   "outputs": [
    {
     "data": {
      "text/html": [
       "<div>\n",
       "<style scoped>\n",
       "    .dataframe tbody tr th:only-of-type {\n",
       "        vertical-align: middle;\n",
       "    }\n",
       "\n",
       "    .dataframe tbody tr th {\n",
       "        vertical-align: top;\n",
       "    }\n",
       "\n",
       "    .dataframe thead th {\n",
       "        text-align: right;\n",
       "    }\n",
       "</style>\n",
       "<table border=\"1\" class=\"dataframe\">\n",
       "  <thead>\n",
       "    <tr style=\"text-align: right;\">\n",
       "      <th></th>\n",
       "      <th>PassengerId</th>\n",
       "      <th>Survived</th>\n",
       "    </tr>\n",
       "  </thead>\n",
       "  <tbody>\n",
       "    <tr>\n",
       "      <th>0</th>\n",
       "      <td>892</td>\n",
       "      <td>0</td>\n",
       "    </tr>\n",
       "    <tr>\n",
       "      <th>1</th>\n",
       "      <td>893</td>\n",
       "      <td>0</td>\n",
       "    </tr>\n",
       "    <tr>\n",
       "      <th>2</th>\n",
       "      <td>894</td>\n",
       "      <td>0</td>\n",
       "    </tr>\n",
       "    <tr>\n",
       "      <th>3</th>\n",
       "      <td>895</td>\n",
       "      <td>0</td>\n",
       "    </tr>\n",
       "    <tr>\n",
       "      <th>4</th>\n",
       "      <td>896</td>\n",
       "      <td>0</td>\n",
       "    </tr>\n",
       "    <tr>\n",
       "      <th>...</th>\n",
       "      <td>...</td>\n",
       "      <td>...</td>\n",
       "    </tr>\n",
       "    <tr>\n",
       "      <th>413</th>\n",
       "      <td>1305</td>\n",
       "      <td>0</td>\n",
       "    </tr>\n",
       "    <tr>\n",
       "      <th>414</th>\n",
       "      <td>1306</td>\n",
       "      <td>1</td>\n",
       "    </tr>\n",
       "    <tr>\n",
       "      <th>415</th>\n",
       "      <td>1307</td>\n",
       "      <td>0</td>\n",
       "    </tr>\n",
       "    <tr>\n",
       "      <th>416</th>\n",
       "      <td>1308</td>\n",
       "      <td>0</td>\n",
       "    </tr>\n",
       "    <tr>\n",
       "      <th>417</th>\n",
       "      <td>1309</td>\n",
       "      <td>0</td>\n",
       "    </tr>\n",
       "  </tbody>\n",
       "</table>\n",
       "<p>418 rows × 2 columns</p>\n",
       "</div>"
      ],
      "text/plain": [
       "     PassengerId  Survived\n",
       "0            892         0\n",
       "1            893         0\n",
       "2            894         0\n",
       "3            895         0\n",
       "4            896         0\n",
       "..           ...       ...\n",
       "413         1305         0\n",
       "414         1306         1\n",
       "415         1307         0\n",
       "416         1308         0\n",
       "417         1309         0\n",
       "\n",
       "[418 rows x 2 columns]"
      ]
     },
     "execution_count": 23,
     "metadata": {},
     "output_type": "execute_result"
    }
   ],
   "source": [
    "final"
   ]
  },
  {
   "cell_type": "code",
   "execution_count": 24,
   "id": "a3fe8100",
   "metadata": {
    "execution": {
     "iopub.execute_input": "2021-07-17T17:59:09.641018Z",
     "iopub.status.busy": "2021-07-17T17:59:09.640346Z",
     "iopub.status.idle": "2021-07-17T17:59:09.648636Z",
     "shell.execute_reply": "2021-07-17T17:59:09.649101Z",
     "shell.execute_reply.started": "2021-07-17T17:21:22.979283Z"
    },
    "papermill": {
     "duration": 0.032579,
     "end_time": "2021-07-17T17:59:09.649277",
     "exception": false,
     "start_time": "2021-07-17T17:59:09.616698",
     "status": "completed"
    },
    "tags": []
   },
   "outputs": [],
   "source": [
    "final.to_csv(\"results.csv\")"
   ]
  }
 ],
 "metadata": {
  "kernelspec": {
   "display_name": "Python 3",
   "language": "python",
   "name": "python3"
  },
  "language_info": {
   "codemirror_mode": {
    "name": "ipython",
    "version": 3
   },
   "file_extension": ".py",
   "mimetype": "text/x-python",
   "name": "python",
   "nbconvert_exporter": "python",
   "pygments_lexer": "ipython3",
   "version": "3.7.10"
  },
  "papermill": {
   "default_parameters": {},
   "duration": 813.825989,
   "end_time": "2021-07-17T17:59:10.481683",
   "environment_variables": {},
   "exception": null,
   "input_path": "__notebook__.ipynb",
   "output_path": "__notebook__.ipynb",
   "parameters": {},
   "start_time": "2021-07-17T17:45:36.655694",
   "version": "2.3.3"
  }
 },
 "nbformat": 4,
 "nbformat_minor": 5
}
